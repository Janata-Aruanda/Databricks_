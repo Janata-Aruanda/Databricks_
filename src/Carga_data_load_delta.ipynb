{
 "cells": [
  {
   "cell_type": "markdown",
   "metadata": {
    "application/vnd.databricks.v1+cell": {
     "cellMetadata": {},
     "inputWidgets": {},
     "nuid": "2a8294ef-6c20-439f-8bc8-16f2c0c89ac9",
     "showTitle": false,
     "tableResultSettingsMap": {},
     "title": ""
    }
   },
   "source": [
    "##Carrega os dados do arquivo Json\n"
   ]
  },
  {
   "cell_type": "code",
   "execution_count": 0,
   "metadata": {
    "application/vnd.databricks.v1+cell": {
     "cellMetadata": {
      "byteLimit": 2048000,
      "rowLimit": 10000
     },
     "inputWidgets": {},
     "nuid": "34d7b404-df99-41f0-ba93-9ac02c120de8",
     "showTitle": false,
     "tableResultSettingsMap": {},
     "title": ""
    }
   },
   "outputs": [
    {
     "output_type": "stream",
     "name": "stdout",
     "output_type": "stream",
     "text": [
      "root\n |-- customer: string (nullable = true)\n |-- date_order: string (nullable = true)\n |-- id: long (nullable = true)\n |-- price: double (nullable = true)\n |-- product: string (nullable = true)\n |-- unit: long (nullable = true)\n\n+--------+----------+---+-----+---------------+----+\n|customer|date_order| id|price|        product|unit|\n+--------+----------+---+-----+---------------+----+\n|  Carlos|2021-01-23|  1|238.0|             TV|   5|\n|     Ana|2021-03-22|  2|121.6|AR-CONDICIONADO|   6|\n|   Sofia|2021-04-21|  3|415.4|        FREEZER|   7|\n|  Sandra|2021-04-23|  4|313.0|             TV|   8|\n|  Tereza|2021-05-23|  5|412.0|       FRIGOBAR|   3|\n+--------+----------+---+-----+---------------+----+\nonly showing top 5 rows\n\n"
     ]
    }
   ],
   "source": [
    "dfcliente =  spark.read.json(\"/FileStore/tables/brz/carga/clientes.json\")\n",
    "\n",
    "dfcliente.printSchema()\n",
    "\n",
    "dfcliente.show(5)"
   ]
  },
  {
   "cell_type": "markdown",
   "metadata": {
    "application/vnd.databricks.v1+cell": {
     "cellMetadata": {},
     "inputWidgets": {},
     "nuid": "fcdcfaf9-3ebc-405e-a1f9-9b4a384df635",
     "showTitle": false,
     "tableResultSettingsMap": {},
     "title": ""
    }
   },
   "source": [
    "##Cria a tabela temporária com os dos do arquivo json em memória"
   ]
  },
  {
   "cell_type": "code",
   "execution_count": 0,
   "metadata": {
    "application/vnd.databricks.v1+cell": {
     "cellMetadata": {
      "byteLimit": 2048000,
      "rowLimit": 10000
     },
     "inputWidgets": {},
     "nuid": "67858243-0cc5-42c0-b49a-17f198a97787",
     "showTitle": false,
     "tableResultSettingsMap": {},
     "title": ""
    }
   },
   "outputs": [
    {
     "output_type": "stream",
     "name": "stdout",
     "output_type": "stream",
     "text": [
      "+--------+----------+---+-----+---------------+----+\n|customer|date_order| id|price|        product|unit|\n+--------+----------+---+-----+---------------+----+\n|  Carlos|2021-01-23|  1|238.0|             TV|   5|\n|     Ana|2021-03-22|  2|121.6|AR-CONDICIONADO|   6|\n|   Sofia|2021-04-21|  3|415.4|        FREEZER|   7|\n|  Sandra|2021-04-23|  4|313.0|             TV|   8|\n|  Tereza|2021-05-23|  5|412.0|       FRIGOBAR|   3|\n|   Carla|2021-06-25|  6|124.0|           MESA|   1|\n|   Sofia|2021-07-25|  7|342.3|        CADEIRA|   1|\n+--------+----------+---+-----+---------------+----+\n\n"
     ]
    }
   ],
   "source": [
    "dfcliente.createOrReplaceTempView(\"compras_view\")\n",
    "\n",
    "out = spark.sql(\"SELECT * FROM compras_view\")\n",
    "\n",
    "out.show()"
   ]
  },
  {
   "cell_type": "markdown",
   "metadata": {
    "application/vnd.databricks.v1+cell": {
     "cellMetadata": {},
     "inputWidgets": {},
     "nuid": "ff0f319f-c8c5-46f4-808f-c3a8faf3f9a5",
     "showTitle": false,
     "tableResultSettingsMap": {},
     "title": ""
    }
   },
   "source": [
    "##Carrega os dados no Delta Lake gerando uma tabela chamada compras, note USING DELTA"
   ]
  },
  {
   "cell_type": "code",
   "execution_count": 0,
   "metadata": {
    "application/vnd.databricks.v1+cell": {
     "cellMetadata": {
      "byteLimit": 2048000,
      "rowLimit": 10000
     },
     "inputWidgets": {},
     "nuid": "5371ad45-4789-4b57-8a57-1a4638cf59ec",
     "showTitle": false,
     "tableResultSettingsMap": {},
     "title": ""
    }
   },
   "outputs": [
    {
     "output_type": "display_data",
     "data": {
      "text/html": [
       "<style scoped>\n",
       "  .ansiout {\n",
       "    display: block;\n",
       "    unicode-bidi: embed;\n",
       "    white-space: pre-wrap;\n",
       "    word-wrap: break-word;\n",
       "    word-break: break-all;\n",
       "    font-family: \"Menlo\", \"Monaco\", \"Consolas\", \"Ubuntu Mono\", \"Source Code Pro\", monospace;\n",
       "    font-size: 13px;\n",
       "    color: #555;\n",
       "    margin-left: 4px;\n",
       "    line-height: 19px;\n",
       "  }\n",
       "</style>\n",
       "<div class=\"ansiout\">scrisql: String =\n",
       "&quot;CREATE OR REPLACE TABLE compras (\n",
       "    id STRING,\n",
       "    date_order STRING,\n",
       "    customer STRING,\n",
       "    product STRING,\n",
       "    unit INTEGER,\n",
       "    price DOUBLE)\n",
       "    USING\n",
       "    DELTA PARTITIONED BY (date_order) &quot;\n",
       "res0: org.apache.spark.sql.DataFrame = []\n",
       "</div>"
      ]
     },
     "metadata": {
      "application/vnd.databricks.v1+output": {
       "addedWidgets": {},
       "arguments": {},
       "data": "<div class=\"ansiout\">scrisql: String =\n&quot;CREATE OR REPLACE TABLE compras (\n    id STRING,\n    date_order STRING,\n    customer STRING,\n    product STRING,\n    unit INTEGER,\n    price DOUBLE)\n    USING\n    DELTA PARTITIONED BY (date_order) &quot;\nres0: org.apache.spark.sql.DataFrame = []\n</div>",
       "datasetInfos": [
        {
         "name": "res0",
         "schema": {
          "fields": [],
          "type": "struct"
         },
         "tableIdentifier": null,
         "typeStr": "org.apache.spark.sql.DataFrame"
        }
       ],
       "metadata": {
        "isDbfsCommandResult": false
       },
       "removedWidgets": [],
       "type": "html"
      }
     },
     "output_type": "display_data"
    }
   ],
   "source": [
    "%scala\n",
    "val scrisql = \"\"\"CREATE OR REPLACE TABLE compras (\n",
    "    id STRING, \n",
    "    date_order STRING,\n",
    "    customer STRING,\n",
    "    product STRING,\n",
    "    unit INTEGER,\n",
    "    price DOUBLE) \n",
    "    USING\n",
    "    DELTA PARTITIONED BY (date_order) \"\"\";\n",
    "spark.sql(scrisql);"
   ]
  },
  {
   "cell_type": "markdown",
   "metadata": {
    "application/vnd.databricks.v1+cell": {
     "cellMetadata": {},
     "inputWidgets": {},
     "nuid": "d2808467-886c-42cc-9eee-978fdcea5bcc",
     "showTitle": false,
     "tableResultSettingsMap": {},
     "title": ""
    }
   },
   "source": [
    "##Lista os dados do Delta Lake, que estará vazia\n",
    "\n"
   ]
  },
  {
   "cell_type": "code",
   "execution_count": 0,
   "metadata": {
    "application/vnd.databricks.v1+cell": {
     "cellMetadata": {
      "byteLimit": 2048000,
      "rowLimit": 10000
     },
     "inputWidgets": {},
     "nuid": "4b1c9391-f0f0-4472-9656-bb46597df2ad",
     "showTitle": false,
     "tableResultSettingsMap": {},
     "title": ""
    }
   },
   "outputs": [
    {
     "output_type": "display_data",
     "data": {
      "text/html": [
       "<style scoped>\n",
       "  .ansiout {\n",
       "    display: block;\n",
       "    unicode-bidi: embed;\n",
       "    white-space: pre-wrap;\n",
       "    word-wrap: break-word;\n",
       "    word-break: break-all;\n",
       "    font-family: \"Menlo\", \"Monaco\", \"Consolas\", \"Ubuntu Mono\", \"Source Code Pro\", monospace;\n",
       "    font-size: 13px;\n",
       "    color: #555;\n",
       "    margin-left: 4px;\n",
       "    line-height: 19px;\n",
       "  }\n",
       "</style>\n",
       "<div class=\"ansiout\">+---+----------+--------+-------+----+-----+\n",
       " id|date_order|customer|product|unit|price|\n",
       "+---+----------+--------+-------+----+-----+\n",
       "+---+----------+--------+-------+----+-----+\n",
       "\n",
       "</div>"
      ]
     },
     "metadata": {
      "application/vnd.databricks.v1+output": {
       "addedWidgets": {},
       "arguments": {},
       "data": "<div class=\"ansiout\">+---+----------+--------+-------+----+-----+\n| id|date_order|customer|product|unit|price|\n+---+----------+--------+-------+----+-----+\n+---+----------+--------+-------+----+-----+\n\n</div>",
       "datasetInfos": [],
       "metadata": {
        "isDbfsCommandResult": false
       },
       "removedWidgets": [],
       "type": "html"
      }
     },
     "output_type": "display_data"
    }
   ],
   "source": [
    "%scala\n",
    "spark.sql(\"select * from compras\").show()"
   ]
  },
  {
   "cell_type": "markdown",
   "metadata": {
    "application/vnd.databricks.v1+cell": {
     "cellMetadata": {},
     "inputWidgets": {},
     "nuid": "7c86ca40-09db-4ada-9d72-daf2d32e99dc",
     "showTitle": false,
     "tableResultSettingsMap": {},
     "title": ""
    }
   },
   "source": [
    "##Criando um merge para carregar os dados da tabela temporário no Delta Lake\n"
   ]
  },
  {
   "cell_type": "code",
   "execution_count": 0,
   "metadata": {
    "application/vnd.databricks.v1+cell": {
     "cellMetadata": {
      "byteLimit": 2048000,
      "rowLimit": 10000
     },
     "inputWidgets": {},
     "nuid": "e63b5047-5777-4db5-9e6d-b6354066b3aa",
     "showTitle": false,
     "tableResultSettingsMap": {},
     "title": ""
    }
   },
   "outputs": [
    {
     "output_type": "display_data",
     "data": {
      "text/html": [
       "<style scoped>\n",
       "  .ansiout {\n",
       "    display: block;\n",
       "    unicode-bidi: embed;\n",
       "    white-space: pre-wrap;\n",
       "    word-wrap: break-word;\n",
       "    word-break: break-all;\n",
       "    font-family: \"Menlo\", \"Monaco\", \"Consolas\", \"Ubuntu Mono\", \"Source Code Pro\", monospace;\n",
       "    font-size: 13px;\n",
       "    color: #555;\n",
       "    margin-left: 4px;\n",
       "    line-height: 19px;\n",
       "  }\n",
       "</style>\n",
       "<div class=\"ansiout\">mergedados: String = &quot;Merge into compras using compras_view as cmp_view ON compras.id = cmp_view.id WHEN MATCHED THEN UPDATE SET compras.product = cmp_view.product,compras.price = cmp_view.price WHEN NOT MATCHED THEN INSERT * &quot;\n",
       "res3: org.apache.spark.sql.DataFrame = [num_affected_rows: bigint, num_updated_rows: bigint ... 2 more fields]\n",
       "</div>"
      ]
     },
     "metadata": {
      "application/vnd.databricks.v1+output": {
       "addedWidgets": {},
       "arguments": {},
       "data": "<div class=\"ansiout\">mergedados: String = &quot;Merge into compras using compras_view as cmp_view ON compras.id = cmp_view.id WHEN MATCHED THEN UPDATE SET compras.product = cmp_view.product,compras.price = cmp_view.price WHEN NOT MATCHED THEN INSERT * &quot;\nres3: org.apache.spark.sql.DataFrame = [num_affected_rows: bigint, num_updated_rows: bigint ... 2 more fields]\n</div>",
       "datasetInfos": [
        {
         "name": "res3",
         "schema": {
          "fields": [
           {
            "metadata": {},
            "name": "num_affected_rows",
            "nullable": true,
            "type": "long"
           },
           {
            "metadata": {},
            "name": "num_updated_rows",
            "nullable": true,
            "type": "long"
           },
           {
            "metadata": {},
            "name": "num_deleted_rows",
            "nullable": true,
            "type": "long"
           },
           {
            "metadata": {},
            "name": "num_inserted_rows",
            "nullable": true,
            "type": "long"
           }
          ],
          "type": "struct"
         },
         "tableIdentifier": null,
         "typeStr": "org.apache.spark.sql.DataFrame"
        }
       ],
       "metadata": {
        "isDbfsCommandResult": false
       },
       "removedWidgets": [],
       "type": "html"
      }
     },
     "output_type": "display_data"
    }
   ],
   "source": [
    "%scala\n",
    "val mergedados = \"Merge into compras \" +\n",
    " \"using compras_view as cmp_view \" +\n",
    " \"ON compras.id = cmp_view.id \" +\n",
    " \"WHEN MATCHED THEN \" +\n",
    " \"UPDATE SET compras.product = cmp_view.product,\" +\n",
    " \"compras.price = cmp_view.price \" +\n",
    " \"WHEN NOT MATCHED THEN INSERT * \";\n",
    "spark.sql(mergedados);"
   ]
  },
  {
   "cell_type": "markdown",
   "metadata": {
    "application/vnd.databricks.v1+cell": {
     "cellMetadata": {},
     "inputWidgets": {},
     "nuid": "369e72f8-c8d4-422e-a340-fa556e19e18c",
     "showTitle": false,
     "tableResultSettingsMap": {},
     "title": ""
    }
   },
   "source": [
    "## Exibe os dados que foram carregados com o merge"
   ]
  },
  {
   "cell_type": "code",
   "execution_count": 0,
   "metadata": {
    "application/vnd.databricks.v1+cell": {
     "cellMetadata": {
      "byteLimit": 2048000,
      "rowLimit": 10000
     },
     "inputWidgets": {},
     "nuid": "03070efa-e20b-42ae-b73f-7943cda3e37e",
     "showTitle": false,
     "tableResultSettingsMap": {},
     "title": ""
    }
   },
   "outputs": [
    {
     "output_type": "display_data",
     "data": {
      "text/html": [
       "<style scoped>\n",
       "  .ansiout {\n",
       "    display: block;\n",
       "    unicode-bidi: embed;\n",
       "    white-space: pre-wrap;\n",
       "    word-wrap: break-word;\n",
       "    word-break: break-all;\n",
       "    font-family: \"Menlo\", \"Monaco\", \"Consolas\", \"Ubuntu Mono\", \"Source Code Pro\", monospace;\n",
       "    font-size: 13px;\n",
       "    color: #555;\n",
       "    margin-left: 4px;\n",
       "    line-height: 19px;\n",
       "  }\n",
       "</style>\n",
       "<div class=\"ansiout\">+---+----------+--------+---------------+----+-----+\n",
       " id|date_order|customer|        product|unit|price|\n",
       "+---+----------+--------+---------------+----+-----+\n",
       "  2|2021-03-22|     Ana|AR-CONDICIONADO|   6|121.6|\n",
       "  5|2021-05-23|  Tereza|       FRIGOBAR|   3|412.0|\n",
       "  7|2021-07-25|   Sofia|        CADEIRA|   1|342.3|\n",
       "  3|2021-04-21|   Sofia|        FREEZER|   7|415.4|\n",
       "  6|2021-06-25|   Carla|           MESA|   1|124.0|\n",
       "  4|2021-04-23|  Sandra|             TV|   8|313.0|\n",
       "  1|2021-01-23|  Carlos|             TV|   5|238.0|\n",
       "+---+----------+--------+---------------+----+-----+\n",
       "\n",
       "</div>"
      ]
     },
     "metadata": {
      "application/vnd.databricks.v1+output": {
       "addedWidgets": {},
       "arguments": {},
       "data": "<div class=\"ansiout\">+---+----------+--------+---------------+----+-----+\n| id|date_order|customer|        product|unit|price|\n+---+----------+--------+---------------+----+-----+\n|  2|2021-03-22|     Ana|AR-CONDICIONADO|   6|121.6|\n|  5|2021-05-23|  Tereza|       FRIGOBAR|   3|412.0|\n|  7|2021-07-25|   Sofia|        CADEIRA|   1|342.3|\n|  3|2021-04-21|   Sofia|        FREEZER|   7|415.4|\n|  6|2021-06-25|   Carla|           MESA|   1|124.0|\n|  4|2021-04-23|  Sandra|             TV|   8|313.0|\n|  1|2021-01-23|  Carlos|             TV|   5|238.0|\n+---+----------+--------+---------------+----+-----+\n\n</div>",
       "datasetInfos": [],
       "metadata": {
        "isDbfsCommandResult": false
       },
       "removedWidgets": [],
       "type": "html"
      }
     },
     "output_type": "display_data"
    }
   ],
   "source": [
    "%scala\n",
    "spark.sql(\"select * from compras\").show();"
   ]
  },
  {
   "cell_type": "markdown",
   "metadata": {
    "application/vnd.databricks.v1+cell": {
     "cellMetadata": {},
     "inputWidgets": {},
     "nuid": "7f50de6a-21e8-493e-a58f-6c96382ef573",
     "showTitle": false,
     "tableResultSettingsMap": {},
     "title": ""
    }
   },
   "source": [
    "##Atualiza os dados do id=4 com o comando update\n"
   ]
  },
  {
   "cell_type": "code",
   "execution_count": 0,
   "metadata": {
    "application/vnd.databricks.v1+cell": {
     "cellMetadata": {
      "byteLimit": 2048000,
      "rowLimit": 10000
     },
     "inputWidgets": {},
     "nuid": "3cfc577c-46d3-4b61-898c-b86985fe8a52",
     "showTitle": false,
     "tableResultSettingsMap": {},
     "title": ""
    }
   },
   "outputs": [
    {
     "output_type": "display_data",
     "data": {
      "text/html": [
       "<style scoped>\n",
       "  .ansiout {\n",
       "    display: block;\n",
       "    unicode-bidi: embed;\n",
       "    white-space: pre-wrap;\n",
       "    word-wrap: break-word;\n",
       "    word-break: break-all;\n",
       "    font-family: \"Menlo\", \"Monaco\", \"Consolas\", \"Ubuntu Mono\", \"Source Code Pro\", monospace;\n",
       "    font-size: 13px;\n",
       "    color: #555;\n",
       "    margin-left: 4px;\n",
       "    line-height: 19px;\n",
       "  }\n",
       "</style>\n",
       "<div class=\"ansiout\">atualiza_dados: String = update compras set product = 'Geladeira' where id =4\n",
       "res6: org.apache.spark.sql.DataFrame = [num_affected_rows: bigint]\n",
       "</div>"
      ]
     },
     "metadata": {
      "application/vnd.databricks.v1+output": {
       "addedWidgets": {},
       "arguments": {},
       "data": "<div class=\"ansiout\">atualiza_dados: String = update compras set product = 'Geladeira' where id =4\nres6: org.apache.spark.sql.DataFrame = [num_affected_rows: bigint]\n</div>",
       "datasetInfos": [
        {
         "name": "res6",
         "schema": {
          "fields": [
           {
            "metadata": {},
            "name": "num_affected_rows",
            "nullable": true,
            "type": "long"
           }
          ],
          "type": "struct"
         },
         "tableIdentifier": null,
         "typeStr": "org.apache.spark.sql.DataFrame"
        }
       ],
       "metadata": {
        "isDbfsCommandResult": false
       },
       "removedWidgets": [],
       "type": "html"
      }
     },
     "output_type": "display_data"
    }
   ],
   "source": [
    "%scala\n",
    "val atualiza_dados = \"update compras \" +\n",
    " \"set product = 'Geladeira' \" +\n",
    " \"where id =4\";\n",
    "spark.sql(atualiza_dados);"
   ]
  },
  {
   "cell_type": "markdown",
   "metadata": {
    "application/vnd.databricks.v1+cell": {
     "cellMetadata": {},
     "inputWidgets": {},
     "nuid": "ed43d21c-9384-43ae-a33a-cd73e11da12d",
     "showTitle": false,
     "tableResultSettingsMap": {},
     "title": ""
    }
   },
   "source": [
    "## Exibe os dados que foram carregados, note a atualização no id=4 \n"
   ]
  },
  {
   "cell_type": "code",
   "execution_count": 0,
   "metadata": {
    "application/vnd.databricks.v1+cell": {
     "cellMetadata": {
      "byteLimit": 2048000,
      "rowLimit": 10000
     },
     "inputWidgets": {},
     "nuid": "1c6ddfb1-72fe-4f67-8e18-e142cc0a3bf4",
     "showTitle": false,
     "tableResultSettingsMap": {},
     "title": ""
    }
   },
   "outputs": [
    {
     "output_type": "display_data",
     "data": {
      "text/html": [
       "<style scoped>\n",
       "  .ansiout {\n",
       "    display: block;\n",
       "    unicode-bidi: embed;\n",
       "    white-space: pre-wrap;\n",
       "    word-wrap: break-word;\n",
       "    word-break: break-all;\n",
       "    font-family: \"Menlo\", \"Monaco\", \"Consolas\", \"Ubuntu Mono\", \"Source Code Pro\", monospace;\n",
       "    font-size: 13px;\n",
       "    color: #555;\n",
       "    margin-left: 4px;\n",
       "    line-height: 19px;\n",
       "  }\n",
       "</style>\n",
       "<div class=\"ansiout\">+---+----------+--------+---------------+----+-----+\n",
       " id|date_order|customer|        product|unit|price|\n",
       "+---+----------+--------+---------------+----+-----+\n",
       "  2|2021-03-22|     Ana|AR-CONDICIONADO|   6|121.6|\n",
       "  4|2021-04-23|  Sandra|      Geladeira|   8|313.0|\n",
       "  5|2021-05-23|  Tereza|       FRIGOBAR|   3|412.0|\n",
       "  7|2021-07-25|   Sofia|        CADEIRA|   1|342.3|\n",
       "  3|2021-04-21|   Sofia|        FREEZER|   7|415.4|\n",
       "  6|2021-06-25|   Carla|           MESA|   1|124.0|\n",
       "  1|2021-01-23|  Carlos|             TV|   5|238.0|\n",
       "+---+----------+--------+---------------+----+-----+\n",
       "\n",
       "</div>"
      ]
     },
     "metadata": {
      "application/vnd.databricks.v1+output": {
       "addedWidgets": {},
       "arguments": {},
       "data": "<div class=\"ansiout\">+---+----------+--------+---------------+----+-----+\n| id|date_order|customer|        product|unit|price|\n+---+----------+--------+---------------+----+-----+\n|  2|2021-03-22|     Ana|AR-CONDICIONADO|   6|121.6|\n|  4|2021-04-23|  Sandra|      Geladeira|   8|313.0|\n|  5|2021-05-23|  Tereza|       FRIGOBAR|   3|412.0|\n|  7|2021-07-25|   Sofia|        CADEIRA|   1|342.3|\n|  3|2021-04-21|   Sofia|        FREEZER|   7|415.4|\n|  6|2021-06-25|   Carla|           MESA|   1|124.0|\n|  1|2021-01-23|  Carlos|             TV|   5|238.0|\n+---+----------+--------+---------------+----+-----+\n\n</div>",
       "datasetInfos": [],
       "metadata": {
        "isDbfsCommandResult": false
       },
       "removedWidgets": [],
       "type": "html"
      }
     },
     "output_type": "display_data"
    }
   ],
   "source": [
    "%scala\n",
    "spark.sql(\"select * from compras\").show();"
   ]
  },
  {
   "cell_type": "markdown",
   "metadata": {
    "application/vnd.databricks.v1+cell": {
     "cellMetadata": {},
     "inputWidgets": {},
     "nuid": "d718b24d-cf11-42c9-aaac-402c364ace8a",
     "showTitle": false,
     "tableResultSettingsMap": {},
     "title": ""
    }
   },
   "source": [
    "## Eliminação do registro cujo o id=4"
   ]
  },
  {
   "cell_type": "code",
   "execution_count": 0,
   "metadata": {
    "application/vnd.databricks.v1+cell": {
     "cellMetadata": {
      "byteLimit": 2048000,
      "rowLimit": 10000
     },
     "inputWidgets": {},
     "nuid": "f14f24f3-87ad-432f-89fa-186dac3c5eb5",
     "showTitle": false,
     "tableResultSettingsMap": {},
     "title": ""
    }
   },
   "outputs": [
    {
     "output_type": "display_data",
     "data": {
      "text/html": [
       "<style scoped>\n",
       "  .ansiout {\n",
       "    display: block;\n",
       "    unicode-bidi: embed;\n",
       "    white-space: pre-wrap;\n",
       "    word-wrap: break-word;\n",
       "    word-break: break-all;\n",
       "    font-family: \"Menlo\", \"Monaco\", \"Consolas\", \"Ubuntu Mono\", \"Source Code Pro\", monospace;\n",
       "    font-size: 13px;\n",
       "    color: #555;\n",
       "    margin-left: 4px;\n",
       "    line-height: 19px;\n",
       "  }\n",
       "</style>\n",
       "<div class=\"ansiout\">deletaregistro: String = delete from compras where id = 1\n",
       "res9: org.apache.spark.sql.DataFrame = [num_affected_rows: bigint]\n",
       "</div>"
      ]
     },
     "metadata": {
      "application/vnd.databricks.v1+output": {
       "addedWidgets": {},
       "arguments": {},
       "data": "<div class=\"ansiout\">deletaregistro: String = delete from compras where id = 1\nres9: org.apache.spark.sql.DataFrame = [num_affected_rows: bigint]\n</div>",
       "datasetInfos": [
        {
         "name": "res9",
         "schema": {
          "fields": [
           {
            "metadata": {},
            "name": "num_affected_rows",
            "nullable": true,
            "type": "long"
           }
          ],
          "type": "struct"
         },
         "tableIdentifier": null,
         "typeStr": "org.apache.spark.sql.DataFrame"
        }
       ],
       "metadata": {
        "isDbfsCommandResult": false
       },
       "removedWidgets": [],
       "type": "html"
      }
     },
     "output_type": "display_data"
    }
   ],
   "source": [
    "%scala\n",
    "val deletaregistro = \"delete from compras where id = 1\";\n",
    "spark.sql(deletaregistro);\n"
   ]
  },
  {
   "cell_type": "markdown",
   "metadata": {
    "application/vnd.databricks.v1+cell": {
     "cellMetadata": {},
     "inputWidgets": {},
     "nuid": "3ed64902-6066-4667-8271-da40aa5bee98",
     "showTitle": false,
     "tableResultSettingsMap": {},
     "title": ""
    }
   },
   "source": [
    "## Exibe os dados que foram carregados\n"
   ]
  },
  {
   "cell_type": "code",
   "execution_count": 0,
   "metadata": {
    "application/vnd.databricks.v1+cell": {
     "cellMetadata": {
      "byteLimit": 2048000,
      "rowLimit": 10000
     },
     "inputWidgets": {},
     "nuid": "b27db399-be6a-4c88-9cd2-a98ecd98c05d",
     "showTitle": false,
     "tableResultSettingsMap": {},
     "title": ""
    }
   },
   "outputs": [
    {
     "output_type": "stream",
     "name": "stdout",
     "output_type": "stream",
     "text": [
      "+---+----------+--------+---------------+----+-----+\n| id|date_order|customer|        product|unit|price|\n+---+----------+--------+---------------+----+-----+\n|  2|2021-03-22|     Ana|AR-CONDICIONADO|   6|121.6|\n|  4|2021-04-23|  Sandra|      Geladeira|   8|313.0|\n|  5|2021-05-23|  Tereza|       FRIGOBAR|   3|412.0|\n|  7|2021-07-25|   Sofia|        CADEIRA|   1|342.3|\n|  3|2021-04-21|   Sofia|        FREEZER|   7|415.4|\n|  6|2021-06-25|   Carla|           MESA|   1|124.0|\n+---+----------+--------+---------------+----+-----+\n\n"
     ]
    }
   ],
   "source": [
    "spark.sql(\"select * from compras\").show();"
   ]
  },
  {
   "cell_type": "markdown",
   "metadata": {
    "application/vnd.databricks.v1+cell": {
     "cellMetadata": {},
     "inputWidgets": {},
     "nuid": "30164611-3f82-4539-94c1-5c0e6e818da4",
     "showTitle": false,
     "tableResultSettingsMap": {},
     "title": ""
    }
   },
   "source": [
    "### Controle de transações "
   ]
  },
  {
   "cell_type": "code",
   "execution_count": 0,
   "metadata": {
    "application/vnd.databricks.v1+cell": {
     "cellMetadata": {
      "byteLimit": 2048000,
      "rowLimit": 10000
     },
     "inputWidgets": {},
     "nuid": "114a93c4-12ac-4d36-af80-9cf2d72763d3",
     "showTitle": false,
     "tableResultSettingsMap": {},
     "title": ""
    }
   },
   "outputs": [
    {
     "output_type": "display_data",
     "data": {
      "text/html": [
       "<style scoped>\n",
       "  .table-result-container {\n",
       "    max-height: 300px;\n",
       "    overflow: auto;\n",
       "  }\n",
       "  table, th, td {\n",
       "    border: 1px solid black;\n",
       "    border-collapse: collapse;\n",
       "  }\n",
       "  th, td {\n",
       "    padding: 5px;\n",
       "  }\n",
       "  th {\n",
       "    text-align: left;\n",
       "  }\n",
       "</style><div class='table-result-container'><table class='table-result'><thead style='background-color: white'><tr><th>path</th><th>name</th><th>size</th><th>modificationTime</th></tr></thead><tbody><tr><td>dbfs:/user/hive/warehouse/compras/_delta_log/</td><td>_delta_log/</td><td>0</td><td>0</td></tr><tr><td>dbfs:/user/hive/warehouse/compras/date_order=2021-01-23/</td><td>date_order=2021-01-23/</td><td>0</td><td>0</td></tr><tr><td>dbfs:/user/hive/warehouse/compras/date_order=2021-03-22/</td><td>date_order=2021-03-22/</td><td>0</td><td>0</td></tr><tr><td>dbfs:/user/hive/warehouse/compras/date_order=2021-04-21/</td><td>date_order=2021-04-21/</td><td>0</td><td>0</td></tr><tr><td>dbfs:/user/hive/warehouse/compras/date_order=2021-04-23/</td><td>date_order=2021-04-23/</td><td>0</td><td>0</td></tr><tr><td>dbfs:/user/hive/warehouse/compras/date_order=2021-05-23/</td><td>date_order=2021-05-23/</td><td>0</td><td>0</td></tr><tr><td>dbfs:/user/hive/warehouse/compras/date_order=2021-06-25/</td><td>date_order=2021-06-25/</td><td>0</td><td>0</td></tr><tr><td>dbfs:/user/hive/warehouse/compras/date_order=2021-07-25/</td><td>date_order=2021-07-25/</td><td>0</td><td>0</td></tr></tbody></table></div>"
      ]
     },
     "metadata": {
      "application/vnd.databricks.v1+output": {
       "addedWidgets": {},
       "aggData": [],
       "aggError": "",
       "aggOverflow": false,
       "aggSchema": [],
       "aggSeriesLimitReached": false,
       "aggType": "",
       "arguments": {},
       "columnCustomDisplayInfos": {},
       "data": [
        [
         "dbfs:/user/hive/warehouse/compras/_delta_log/",
         "_delta_log/",
         0,
         0
        ],
        [
         "dbfs:/user/hive/warehouse/compras/date_order=2021-01-23/",
         "date_order=2021-01-23/",
         0,
         0
        ],
        [
         "dbfs:/user/hive/warehouse/compras/date_order=2021-03-22/",
         "date_order=2021-03-22/",
         0,
         0
        ],
        [
         "dbfs:/user/hive/warehouse/compras/date_order=2021-04-21/",
         "date_order=2021-04-21/",
         0,
         0
        ],
        [
         "dbfs:/user/hive/warehouse/compras/date_order=2021-04-23/",
         "date_order=2021-04-23/",
         0,
         0
        ],
        [
         "dbfs:/user/hive/warehouse/compras/date_order=2021-05-23/",
         "date_order=2021-05-23/",
         0,
         0
        ],
        [
         "dbfs:/user/hive/warehouse/compras/date_order=2021-06-25/",
         "date_order=2021-06-25/",
         0,
         0
        ],
        [
         "dbfs:/user/hive/warehouse/compras/date_order=2021-07-25/",
         "date_order=2021-07-25/",
         0,
         0
        ]
       ],
       "datasetInfos": [],
       "dbfsResultPath": null,
       "isJsonSchema": true,
       "metadata": {
        "isDbfsCommandResult": false
       },
       "overflow": false,
       "plotOptions": {
        "customPlotOptions": {},
        "displayType": "table",
        "pivotAggregation": null,
        "pivotColumns": null,
        "xColumns": null,
        "yColumns": null
       },
       "removedWidgets": [],
       "schema": [
        {
         "metadata": "{}",
         "name": "path",
         "type": "\"string\""
        },
        {
         "metadata": "{}",
         "name": "name",
         "type": "\"string\""
        },
        {
         "metadata": "{}",
         "name": "size",
         "type": "\"long\""
        },
        {
         "metadata": "{}",
         "name": "modificationTime",
         "type": "\"long\""
        }
       ],
       "type": "table"
      }
     },
     "output_type": "display_data"
    }
   ],
   "source": [
    "%fs\n",
    "ls /user/hive/warehouse/compras"
   ]
  },
  {
   "cell_type": "markdown",
   "metadata": {
    "application/vnd.databricks.v1+cell": {
     "cellMetadata": {},
     "inputWidgets": {},
     "nuid": "b5b12a9e-29c8-4498-9003-41c6504be3ec",
     "showTitle": false,
     "tableResultSettingsMap": {},
     "title": ""
    }
   },
   "source": [
    "### Historico da operação no delta"
   ]
  },
  {
   "cell_type": "code",
   "execution_count": 0,
   "metadata": {
    "application/vnd.databricks.v1+cell": {
     "cellMetadata": {
      "byteLimit": 2048000,
      "rowLimit": 10000
     },
     "inputWidgets": {},
     "nuid": "d354b793-b891-4aa5-afe8-5b85a0e82e94",
     "showTitle": false,
     "tableResultSettingsMap": {},
     "title": ""
    }
   },
   "outputs": [
    {
     "output_type": "display_data",
     "data": {
      "text/html": [
       "<style scoped>\n",
       "  .table-result-container {\n",
       "    max-height: 300px;\n",
       "    overflow: auto;\n",
       "  }\n",
       "  table, th, td {\n",
       "    border: 1px solid black;\n",
       "    border-collapse: collapse;\n",
       "  }\n",
       "  th, td {\n",
       "    padding: 5px;\n",
       "  }\n",
       "  th {\n",
       "    text-align: left;\n",
       "  }\n",
       "</style><div class='table-result-container'><table class='table-result'><thead style='background-color: white'><tr><th>path</th><th>name</th><th>size</th><th>modificationTime</th></tr></thead><tbody><tr><td>dbfs:/user/hive/warehouse/compras/_delta_log/.s3-optimization-0</td><td>.s3-optimization-0</td><td>0</td><td>1738582739000</td></tr><tr><td>dbfs:/user/hive/warehouse/compras/_delta_log/.s3-optimization-1</td><td>.s3-optimization-1</td><td>0</td><td>1738582739000</td></tr><tr><td>dbfs:/user/hive/warehouse/compras/_delta_log/.s3-optimization-2</td><td>.s3-optimization-2</td><td>0</td><td>1738582739000</td></tr><tr><td>dbfs:/user/hive/warehouse/compras/_delta_log/00000000000000000000.crc</td><td>00000000000000000000.crc</td><td>2294</td><td>1738582753000</td></tr><tr><td>dbfs:/user/hive/warehouse/compras/_delta_log/00000000000000000000.json</td><td>00000000000000000000.json</td><td>1327</td><td>1738582740000</td></tr><tr><td>dbfs:/user/hive/warehouse/compras/_delta_log/00000000000000000001.crc</td><td>00000000000000000001.crc</td><td>7076</td><td>1738582829000</td></tr><tr><td>dbfs:/user/hive/warehouse/compras/_delta_log/00000000000000000001.json</td><td>00000000000000000001.json</td><td>6191</td><td>1738582825000</td></tr><tr><td>dbfs:/user/hive/warehouse/compras/_delta_log/00000000000000000002.crc</td><td>00000000000000000002.crc</td><td>7090</td><td>1738582940000</td></tr><tr><td>dbfs:/user/hive/warehouse/compras/_delta_log/00000000000000000002.json</td><td>00000000000000000002.json</td><td>1996</td><td>1738582936000</td></tr><tr><td>dbfs:/user/hive/warehouse/compras/_delta_log/00000000000000000003.crc</td><td>00000000000000000003.crc</td><td>6413</td><td>1738583006000</td></tr><tr><td>dbfs:/user/hive/warehouse/compras/_delta_log/00000000000000000003.json</td><td>00000000000000000003.json</td><td>1327</td><td>1738583003000</td></tr></tbody></table></div>"
      ]
     },
     "metadata": {
      "application/vnd.databricks.v1+output": {
       "addedWidgets": {},
       "aggData": [],
       "aggError": "",
       "aggOverflow": false,
       "aggSchema": [],
       "aggSeriesLimitReached": false,
       "aggType": "",
       "arguments": {},
       "columnCustomDisplayInfos": {},
       "data": [
        [
         "dbfs:/user/hive/warehouse/compras/_delta_log/.s3-optimization-0",
         ".s3-optimization-0",
         0,
         1738582739000
        ],
        [
         "dbfs:/user/hive/warehouse/compras/_delta_log/.s3-optimization-1",
         ".s3-optimization-1",
         0,
         1738582739000
        ],
        [
         "dbfs:/user/hive/warehouse/compras/_delta_log/.s3-optimization-2",
         ".s3-optimization-2",
         0,
         1738582739000
        ],
        [
         "dbfs:/user/hive/warehouse/compras/_delta_log/00000000000000000000.crc",
         "00000000000000000000.crc",
         2294,
         1738582753000
        ],
        [
         "dbfs:/user/hive/warehouse/compras/_delta_log/00000000000000000000.json",
         "00000000000000000000.json",
         1327,
         1738582740000
        ],
        [
         "dbfs:/user/hive/warehouse/compras/_delta_log/00000000000000000001.crc",
         "00000000000000000001.crc",
         7076,
         1738582829000
        ],
        [
         "dbfs:/user/hive/warehouse/compras/_delta_log/00000000000000000001.json",
         "00000000000000000001.json",
         6191,
         1738582825000
        ],
        [
         "dbfs:/user/hive/warehouse/compras/_delta_log/00000000000000000002.crc",
         "00000000000000000002.crc",
         7090,
         1738582940000
        ],
        [
         "dbfs:/user/hive/warehouse/compras/_delta_log/00000000000000000002.json",
         "00000000000000000002.json",
         1996,
         1738582936000
        ],
        [
         "dbfs:/user/hive/warehouse/compras/_delta_log/00000000000000000003.crc",
         "00000000000000000003.crc",
         6413,
         1738583006000
        ],
        [
         "dbfs:/user/hive/warehouse/compras/_delta_log/00000000000000000003.json",
         "00000000000000000003.json",
         1327,
         1738583003000
        ]
       ],
       "datasetInfos": [],
       "dbfsResultPath": null,
       "isJsonSchema": true,
       "metadata": {
        "isDbfsCommandResult": false
       },
       "overflow": false,
       "plotOptions": {
        "customPlotOptions": {},
        "displayType": "table",
        "pivotAggregation": null,
        "pivotColumns": null,
        "xColumns": null,
        "yColumns": null
       },
       "removedWidgets": [],
       "schema": [
        {
         "metadata": "{}",
         "name": "path",
         "type": "\"string\""
        },
        {
         "metadata": "{}",
         "name": "name",
         "type": "\"string\""
        },
        {
         "metadata": "{}",
         "name": "size",
         "type": "\"long\""
        },
        {
         "metadata": "{}",
         "name": "modificationTime",
         "type": "\"long\""
        }
       ],
       "type": "table"
      }
     },
     "output_type": "display_data"
    }
   ],
   "source": [
    "%fs\n",
    "ls /user/hive/warehouse/compras/_delta_log/"
   ]
  }
 ],
 "metadata": {
  "application/vnd.databricks.v1+notebook": {
   "computePreferences": null,
   "dashboards": [],
   "environmentMetadata": {
    "base_environment": "",
    "client": "1"
   },
   "language": "python",
   "notebookMetadata": {
    "mostRecentlyExecutedCommandWithImplicitDF": {
     "commandId": 3786012404039003,
     "dataframes": [
      "_sqldf"
     ]
    },
    "pythonIndentUnit": 4
   },
   "notebookName": "Carga_data_load_delta",
   "widgets": {}
  }
 },
 "nbformat": 4,
 "nbformat_minor": 0
}
