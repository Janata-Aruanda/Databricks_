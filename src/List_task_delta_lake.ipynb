{
 "cells": [
  {
   "cell_type": "markdown",
   "metadata": {
    "application/vnd.databricks.v1+cell": {
     "cellMetadata": {},
     "inputWidgets": {},
     "nuid": "20cd2f10-d015-4407-9d52-71cd2e54688d",
     "showTitle": false,
     "tableResultSettingsMap": {},
     "title": ""
    }
   },
   "source": [
    "### Mostrando o histórico das transações no Delta Lake - tabela Compras\n"
   ]
  },
  {
   "cell_type": "code",
   "execution_count": 0,
   "metadata": {
    "application/vnd.databricks.v1+cell": {
     "cellMetadata": {
      "byteLimit": 2048000,
      "implicitDf": true,
      "rowLimit": 10000
     },
     "inputWidgets": {},
     "nuid": "15f8e012-efd3-48cd-b5be-e03d452e56b1",
     "showTitle": false,
     "tableResultSettingsMap": {},
     "title": ""
    }
   },
   "outputs": [
    {
     "output_type": "display_data",
     "data": {
      "text/html": [
       "<style scoped>\n",
       "  .table-result-container {\n",
       "    max-height: 300px;\n",
       "    overflow: auto;\n",
       "  }\n",
       "  table, th, td {\n",
       "    border: 1px solid black;\n",
       "    border-collapse: collapse;\n",
       "  }\n",
       "  th, td {\n",
       "    padding: 5px;\n",
       "  }\n",
       "  th {\n",
       "    text-align: left;\n",
       "  }\n",
       "</style><div class='table-result-container'><table class='table-result'><thead style='background-color: white'><tr><th>version</th><th>timestamp</th><th>userId</th><th>userName</th><th>operation</th><th>operationParameters</th><th>job</th><th>notebook</th><th>clusterId</th><th>readVersion</th><th>isolationLevel</th><th>isBlindAppend</th><th>operationMetrics</th><th>userMetadata</th><th>engineInfo</th></tr></thead><tbody><tr><td>3</td><td>2025-02-03T11:43:23Z</td><td>1902736859492428</td><td>janataaruanda@gmail.com</td><td>DELETE</td><td>Map(predicate -> [\"(cast(id#2608 as int) = 1)\"])</td><td>null</td><td>List(3786012404038980)</td><td>0203-112311-m6241cwo</td><td>2</td><td>WriteSerializable</td><td>false</td><td>Map(numRemovedFiles -> 1, numRemovedBytes -> 1528, numCopiedRows -> 0, numDeletionVectorsAdded -> 0, numDeletionVectorsRemoved -> 0, numAddedChangeFiles -> 0, executionTimeMs -> 2151, numDeletionVectorsUpdated -> 0, numDeletedRows -> 1, scanTimeMs -> 1300, numAddedFiles -> 0, numAddedBytes -> 0, rewriteTimeMs -> 851)</td><td>null</td><td>Databricks-Runtime/14.1.x-scala2.12</td></tr><tr><td>2</td><td>2025-02-03T11:42:16Z</td><td>1902736859492428</td><td>janataaruanda@gmail.com</td><td>UPDATE</td><td>Map(predicate -> [\"(cast(id#1861 as int) = 4)\"])</td><td>null</td><td>List(3786012404038980)</td><td>0203-112311-m6241cwo</td><td>1</td><td>WriteSerializable</td><td>false</td><td>Map(numRemovedFiles -> 1, numRemovedBytes -> 1528, numCopiedRows -> 0, numDeletionVectorsAdded -> 0, numDeletionVectorsRemoved -> 0, numAddedChangeFiles -> 0, executionTimeMs -> 3557, scanTimeMs -> 2180, numAddedFiles -> 1, numUpdatedRows -> 1, numAddedBytes -> 1578, rewriteTimeMs -> 1361)</td><td>null</td><td>Databricks-Runtime/14.1.x-scala2.12</td></tr><tr><td>1</td><td>2025-02-03T11:40:25Z</td><td>1902736859492428</td><td>janataaruanda@gmail.com</td><td>MERGE</td><td>Map(predicate -> [\"(cast(id#865 as bigint) = id#23L)\"], matchedPredicates -> [{\"actionType\":\"update\"}], statsOnLoad -> false, notMatchedBySourcePredicates -> [], notMatchedPredicates -> [{\"actionType\":\"insert\"}])</td><td>null</td><td>List(3786012404038980)</td><td>0203-112311-m6241cwo</td><td>0</td><td>WriteSerializable</td><td>false</td><td>Map(numTargetRowsCopied -> 0, numTargetRowsDeleted -> 0, numTargetFilesAdded -> 7, numTargetBytesAdded -> 10876, numTargetBytesRemoved -> 0, numTargetDeletionVectorsAdded -> 0, numTargetRowsMatchedUpdated -> 0, executionTimeMs -> 10983, materializeSourceTimeMs -> 515, numTargetRowsInserted -> 7, numTargetRowsMatchedDeleted -> 0, scanTimeMs -> 2750, numTargetRowsUpdated -> 0, numOutputRows -> 7, numTargetDeletionVectorsRemoved -> 0, numTargetRowsNotMatchedBySourceUpdated -> 0, numTargetChangeFilesAdded -> 0, numSourceRows -> 7, numTargetFilesRemoved -> 0, numTargetRowsNotMatchedBySourceDeleted -> 0, rewriteTimeMs -> 7492)</td><td>null</td><td>Databricks-Runtime/14.1.x-scala2.12</td></tr><tr><td>0</td><td>2025-02-03T11:39:00Z</td><td>1902736859492428</td><td>janataaruanda@gmail.com</td><td>CREATE OR REPLACE TABLE</td><td>Map(partitionBy -> [\"date_order\"], description -> null, isManaged -> true, properties -> {}, statsOnLoad -> false)</td><td>null</td><td>List(3786012404038980)</td><td>0203-112311-m6241cwo</td><td>null</td><td>WriteSerializable</td><td>true</td><td>Map()</td><td>null</td><td>Databricks-Runtime/14.1.x-scala2.12</td></tr></tbody></table></div>"
      ]
     },
     "metadata": {
      "application/vnd.databricks.v1+output": {
       "addedWidgets": {},
       "aggData": [],
       "aggError": "",
       "aggOverflow": false,
       "aggSchema": [],
       "aggSeriesLimitReached": false,
       "aggType": "",
       "arguments": {},
       "columnCustomDisplayInfos": {},
       "data": [
        [
         3,
         "2025-02-03T11:43:23Z",
         "1902736859492428",
         "janataaruanda@gmail.com",
         "DELETE",
         {
          "predicate": "[\"(cast(id#2608 as int) = 1)\"]"
         },
         null,
         [
          "3786012404038980"
         ],
         "0203-112311-m6241cwo",
         2,
         "WriteSerializable",
         false,
         {
          "executionTimeMs": "2151",
          "numAddedBytes": "0",
          "numAddedChangeFiles": "0",
          "numAddedFiles": "0",
          "numCopiedRows": "0",
          "numDeletedRows": "1",
          "numDeletionVectorsAdded": "0",
          "numDeletionVectorsRemoved": "0",
          "numDeletionVectorsUpdated": "0",
          "numRemovedBytes": "1528",
          "numRemovedFiles": "1",
          "rewriteTimeMs": "851",
          "scanTimeMs": "1300"
         },
         null,
         "Databricks-Runtime/14.1.x-scala2.12"
        ],
        [
         2,
         "2025-02-03T11:42:16Z",
         "1902736859492428",
         "janataaruanda@gmail.com",
         "UPDATE",
         {
          "predicate": "[\"(cast(id#1861 as int) = 4)\"]"
         },
         null,
         [
          "3786012404038980"
         ],
         "0203-112311-m6241cwo",
         1,
         "WriteSerializable",
         false,
         {
          "executionTimeMs": "3557",
          "numAddedBytes": "1578",
          "numAddedChangeFiles": "0",
          "numAddedFiles": "1",
          "numCopiedRows": "0",
          "numDeletionVectorsAdded": "0",
          "numDeletionVectorsRemoved": "0",
          "numRemovedBytes": "1528",
          "numRemovedFiles": "1",
          "numUpdatedRows": "1",
          "rewriteTimeMs": "1361",
          "scanTimeMs": "2180"
         },
         null,
         "Databricks-Runtime/14.1.x-scala2.12"
        ],
        [
         1,
         "2025-02-03T11:40:25Z",
         "1902736859492428",
         "janataaruanda@gmail.com",
         "MERGE",
         {
          "matchedPredicates": "[{\"actionType\":\"update\"}]",
          "notMatchedBySourcePredicates": "[]",
          "notMatchedPredicates": "[{\"actionType\":\"insert\"}]",
          "predicate": "[\"(cast(id#865 as bigint) = id#23L)\"]",
          "statsOnLoad": "false"
         },
         null,
         [
          "3786012404038980"
         ],
         "0203-112311-m6241cwo",
         0,
         "WriteSerializable",
         false,
         {
          "executionTimeMs": "10983",
          "materializeSourceTimeMs": "515",
          "numOutputRows": "7",
          "numSourceRows": "7",
          "numTargetBytesAdded": "10876",
          "numTargetBytesRemoved": "0",
          "numTargetChangeFilesAdded": "0",
          "numTargetDeletionVectorsAdded": "0",
          "numTargetDeletionVectorsRemoved": "0",
          "numTargetFilesAdded": "7",
          "numTargetFilesRemoved": "0",
          "numTargetRowsCopied": "0",
          "numTargetRowsDeleted": "0",
          "numTargetRowsInserted": "7",
          "numTargetRowsMatchedDeleted": "0",
          "numTargetRowsMatchedUpdated": "0",
          "numTargetRowsNotMatchedBySourceDeleted": "0",
          "numTargetRowsNotMatchedBySourceUpdated": "0",
          "numTargetRowsUpdated": "0",
          "rewriteTimeMs": "7492",
          "scanTimeMs": "2750"
         },
         null,
         "Databricks-Runtime/14.1.x-scala2.12"
        ],
        [
         0,
         "2025-02-03T11:39:00Z",
         "1902736859492428",
         "janataaruanda@gmail.com",
         "CREATE OR REPLACE TABLE",
         {
          "description": null,
          "isManaged": "true",
          "partitionBy": "[\"date_order\"]",
          "properties": "{}",
          "statsOnLoad": "false"
         },
         null,
         [
          "3786012404038980"
         ],
         "0203-112311-m6241cwo",
         null,
         "WriteSerializable",
         true,
         {},
         null,
         "Databricks-Runtime/14.1.x-scala2.12"
        ]
       ],
       "datasetInfos": [],
       "dbfsResultPath": null,
       "isJsonSchema": true,
       "metadata": {
        "dataframeName": "_sqldf",
        "executionCount": 1
       },
       "overflow": false,
       "plotOptions": {
        "customPlotOptions": {},
        "displayType": "table",
        "pivotAggregation": null,
        "pivotColumns": null,
        "xColumns": null,
        "yColumns": null
       },
       "removedWidgets": [],
       "schema": [
        {
         "metadata": "{}",
         "name": "version",
         "type": "\"long\""
        },
        {
         "metadata": "{}",
         "name": "timestamp",
         "type": "\"timestamp\""
        },
        {
         "metadata": "{}",
         "name": "userId",
         "type": "\"string\""
        },
        {
         "metadata": "{}",
         "name": "userName",
         "type": "\"string\""
        },
        {
         "metadata": "{}",
         "name": "operation",
         "type": "\"string\""
        },
        {
         "metadata": "{}",
         "name": "operationParameters",
         "type": "{\"type\":\"map\",\"keyType\":\"string\",\"valueType\":\"string\",\"valueContainsNull\":true}"
        },
        {
         "metadata": "{}",
         "name": "job",
         "type": "{\"type\":\"struct\",\"fields\":[{\"name\":\"jobId\",\"type\":\"string\",\"nullable\":true,\"metadata\":{}},{\"name\":\"jobName\",\"type\":\"string\",\"nullable\":true,\"metadata\":{}},{\"name\":\"jobRunId\",\"type\":\"string\",\"nullable\":true,\"metadata\":{}},{\"name\":\"runId\",\"type\":\"string\",\"nullable\":true,\"metadata\":{}},{\"name\":\"jobOwnerId\",\"type\":\"string\",\"nullable\":true,\"metadata\":{}},{\"name\":\"triggerType\",\"type\":\"string\",\"nullable\":true,\"metadata\":{}}]}"
        },
        {
         "metadata": "{}",
         "name": "notebook",
         "type": "{\"type\":\"struct\",\"fields\":[{\"name\":\"notebookId\",\"type\":\"string\",\"nullable\":true,\"metadata\":{}}]}"
        },
        {
         "metadata": "{}",
         "name": "clusterId",
         "type": "\"string\""
        },
        {
         "metadata": "{}",
         "name": "readVersion",
         "type": "\"long\""
        },
        {
         "metadata": "{}",
         "name": "isolationLevel",
         "type": "\"string\""
        },
        {
         "metadata": "{}",
         "name": "isBlindAppend",
         "type": "\"boolean\""
        },
        {
         "metadata": "{}",
         "name": "operationMetrics",
         "type": "{\"type\":\"map\",\"keyType\":\"string\",\"valueType\":\"string\",\"valueContainsNull\":true}"
        },
        {
         "metadata": "{}",
         "name": "userMetadata",
         "type": "\"string\""
        },
        {
         "metadata": "{}",
         "name": "engineInfo",
         "type": "\"string\""
        }
       ],
       "type": "table"
      }
     },
     "output_type": "display_data"
    }
   ],
   "source": [
    "%sql\n",
    "DESCRIBE HISTORY '/user/hive/warehouse/compras'"
   ]
  },
  {
   "cell_type": "markdown",
   "metadata": {
    "application/vnd.databricks.v1+cell": {
     "cellMetadata": {},
     "inputWidgets": {},
     "nuid": "80794549-b14e-44fe-9a0a-ab36aa3a72b6",
     "showTitle": false,
     "tableResultSettingsMap": {},
     "title": ""
    }
   },
   "source": [
    "### Mostrando os dados de criação da tabela compras\n"
   ]
  },
  {
   "cell_type": "code",
   "execution_count": 0,
   "metadata": {
    "application/vnd.databricks.v1+cell": {
     "cellMetadata": {
      "byteLimit": 2048000,
      "implicitDf": true,
      "rowLimit": 10000
     },
     "inputWidgets": {},
     "nuid": "cf53d041-4f33-45ca-8ed0-f74b28c06225",
     "showTitle": false,
     "tableResultSettingsMap": {},
     "title": ""
    }
   },
   "outputs": [
    {
     "output_type": "display_data",
     "data": {
      "text/html": [
       "<style scoped>\n",
       "  .table-result-container {\n",
       "    max-height: 300px;\n",
       "    overflow: auto;\n",
       "  }\n",
       "  table, th, td {\n",
       "    border: 1px solid black;\n",
       "    border-collapse: collapse;\n",
       "  }\n",
       "  th, td {\n",
       "    padding: 5px;\n",
       "  }\n",
       "  th {\n",
       "    text-align: left;\n",
       "  }\n",
       "</style><div class='table-result-container'><table class='table-result'><thead style='background-color: white'><tr><th>format</th><th>id</th><th>name</th><th>description</th><th>location</th><th>createdAt</th><th>lastModified</th><th>partitionColumns</th><th>clusteringColumns</th><th>numFiles</th><th>sizeInBytes</th><th>properties</th><th>minReaderVersion</th><th>minWriterVersion</th><th>tableFeatures</th><th>statistics</th></tr></thead><tbody><tr><td>delta</td><td>12ea83d4-8954-4298-9368-87210d9cefa2</td><td>null</td><td>null</td><td>dbfs:/user/hive/warehouse/compras</td><td>2025-02-03T11:38:57.777Z</td><td>2025-02-03T11:43:23Z</td><td>List(date_order)</td><td>List()</td><td>6</td><td>9398</td><td>Map()</td><td>1</td><td>2</td><td>List(appendOnly, invariants)</td><td>Map()</td></tr></tbody></table></div>"
      ]
     },
     "metadata": {
      "application/vnd.databricks.v1+output": {
       "addedWidgets": {},
       "aggData": [],
       "aggError": "",
       "aggOverflow": false,
       "aggSchema": [],
       "aggSeriesLimitReached": false,
       "aggType": "",
       "arguments": {},
       "columnCustomDisplayInfos": {},
       "data": [
        [
         "delta",
         "12ea83d4-8954-4298-9368-87210d9cefa2",
         null,
         null,
         "dbfs:/user/hive/warehouse/compras",
         "2025-02-03T11:38:57.777Z",
         "2025-02-03T11:43:23Z",
         [
          "date_order"
         ],
         [],
         6,
         9398,
         {},
         1,
         2,
         [
          "appendOnly",
          "invariants"
         ],
         {}
        ]
       ],
       "datasetInfos": [],
       "dbfsResultPath": null,
       "isJsonSchema": true,
       "metadata": {
        "dataframeName": "_sqldf",
        "executionCount": 2
       },
       "overflow": false,
       "plotOptions": {
        "customPlotOptions": {},
        "displayType": "table",
        "pivotAggregation": null,
        "pivotColumns": null,
        "xColumns": null,
        "yColumns": null
       },
       "removedWidgets": [],
       "schema": [
        {
         "metadata": "{}",
         "name": "format",
         "type": "\"string\""
        },
        {
         "metadata": "{}",
         "name": "id",
         "type": "\"string\""
        },
        {
         "metadata": "{}",
         "name": "name",
         "type": "\"string\""
        },
        {
         "metadata": "{}",
         "name": "description",
         "type": "\"string\""
        },
        {
         "metadata": "{}",
         "name": "location",
         "type": "\"string\""
        },
        {
         "metadata": "{}",
         "name": "createdAt",
         "type": "\"timestamp\""
        },
        {
         "metadata": "{}",
         "name": "lastModified",
         "type": "\"timestamp\""
        },
        {
         "metadata": "{}",
         "name": "partitionColumns",
         "type": "{\"type\":\"array\",\"elementType\":\"string\",\"containsNull\":true}"
        },
        {
         "metadata": "{}",
         "name": "clusteringColumns",
         "type": "{\"type\":\"array\",\"elementType\":\"string\",\"containsNull\":true}"
        },
        {
         "metadata": "{}",
         "name": "numFiles",
         "type": "\"long\""
        },
        {
         "metadata": "{}",
         "name": "sizeInBytes",
         "type": "\"long\""
        },
        {
         "metadata": "{}",
         "name": "properties",
         "type": "{\"type\":\"map\",\"keyType\":\"string\",\"valueType\":\"string\",\"valueContainsNull\":true}"
        },
        {
         "metadata": "{}",
         "name": "minReaderVersion",
         "type": "\"integer\""
        },
        {
         "metadata": "{}",
         "name": "minWriterVersion",
         "type": "\"integer\""
        },
        {
         "metadata": "{}",
         "name": "tableFeatures",
         "type": "{\"type\":\"array\",\"elementType\":\"string\",\"containsNull\":true}"
        },
        {
         "metadata": "{}",
         "name": "statistics",
         "type": "{\"type\":\"map\",\"keyType\":\"string\",\"valueType\":\"long\",\"valueContainsNull\":true}"
        }
       ],
       "type": "table"
      }
     },
     "output_type": "display_data"
    }
   ],
   "source": [
    "%sql\n",
    "DESCRIBE DETAIL '/user/hive/warehouse/compras'"
   ]
  },
  {
   "cell_type": "markdown",
   "metadata": {
    "application/vnd.databricks.v1+cell": {
     "cellMetadata": {},
     "inputWidgets": {},
     "nuid": "87aa8d13-dacf-4821-b889-66ec2c3e2873",
     "showTitle": false,
     "tableResultSettingsMap": {},
     "title": ""
    }
   },
   "source": [
    "## Retornando(exibindo) a versão dos dados a posição do merge dos dados\n",
    "\n"
   ]
  },
  {
   "cell_type": "code",
   "execution_count": 0,
   "metadata": {
    "application/vnd.databricks.v1+cell": {
     "cellMetadata": {
      "byteLimit": 2048000,
      "implicitDf": true,
      "rowLimit": 10000
     },
     "inputWidgets": {},
     "nuid": "338fc573-29a3-4a02-b148-47cd5d7b6a15",
     "showTitle": false,
     "tableResultSettingsMap": {},
     "title": ""
    }
   },
   "outputs": [
    {
     "output_type": "display_data",
     "data": {
      "text/html": [
       "<style scoped>\n",
       "  .table-result-container {\n",
       "    max-height: 300px;\n",
       "    overflow: auto;\n",
       "  }\n",
       "  table, th, td {\n",
       "    border: 1px solid black;\n",
       "    border-collapse: collapse;\n",
       "  }\n",
       "  th, td {\n",
       "    padding: 5px;\n",
       "  }\n",
       "  th {\n",
       "    text-align: left;\n",
       "  }\n",
       "</style><div class='table-result-container'><table class='table-result'><thead style='background-color: white'><tr><th>id</th><th>date_order</th><th>customer</th><th>product</th><th>unit</th><th>price</th></tr></thead><tbody><tr><td>2</td><td>2021-03-22</td><td>Ana</td><td>AR-CONDICIONADO</td><td>6</td><td>121.6</td></tr><tr><td>5</td><td>2021-05-23</td><td>Tereza</td><td>FRIGOBAR</td><td>3</td><td>412.0</td></tr><tr><td>7</td><td>2021-07-25</td><td>Sofia</td><td>CADEIRA</td><td>1</td><td>342.3</td></tr><tr><td>3</td><td>2021-04-21</td><td>Sofia</td><td>FREEZER</td><td>7</td><td>415.4</td></tr><tr><td>6</td><td>2021-06-25</td><td>Carla</td><td>MESA</td><td>1</td><td>124.0</td></tr><tr><td>4</td><td>2021-04-23</td><td>Sandra</td><td>TV</td><td>8</td><td>313.0</td></tr><tr><td>1</td><td>2021-01-23</td><td>Carlos</td><td>TV</td><td>5</td><td>238.0</td></tr></tbody></table></div>"
      ]
     },
     "metadata": {
      "application/vnd.databricks.v1+output": {
       "addedWidgets": {},
       "aggData": [],
       "aggError": "",
       "aggOverflow": false,
       "aggSchema": [],
       "aggSeriesLimitReached": false,
       "aggType": "",
       "arguments": {},
       "columnCustomDisplayInfos": {},
       "data": [
        [
         "2",
         "2021-03-22",
         "Ana",
         "AR-CONDICIONADO",
         6,
         121.6
        ],
        [
         "5",
         "2021-05-23",
         "Tereza",
         "FRIGOBAR",
         3,
         412.0
        ],
        [
         "7",
         "2021-07-25",
         "Sofia",
         "CADEIRA",
         1,
         342.3
        ],
        [
         "3",
         "2021-04-21",
         "Sofia",
         "FREEZER",
         7,
         415.4
        ],
        [
         "6",
         "2021-06-25",
         "Carla",
         "MESA",
         1,
         124.0
        ],
        [
         "4",
         "2021-04-23",
         "Sandra",
         "TV",
         8,
         313.0
        ],
        [
         "1",
         "2021-01-23",
         "Carlos",
         "TV",
         5,
         238.0
        ]
       ],
       "datasetInfos": [],
       "dbfsResultPath": null,
       "isJsonSchema": true,
       "metadata": {
        "dataframeName": "_sqldf",
        "executionCount": 3
       },
       "overflow": false,
       "plotOptions": {
        "customPlotOptions": {},
        "displayType": "table",
        "pivotAggregation": null,
        "pivotColumns": null,
        "xColumns": null,
        "yColumns": null
       },
       "removedWidgets": [],
       "schema": [
        {
         "metadata": "{}",
         "name": "id",
         "type": "\"string\""
        },
        {
         "metadata": "{}",
         "name": "date_order",
         "type": "\"string\""
        },
        {
         "metadata": "{}",
         "name": "customer",
         "type": "\"string\""
        },
        {
         "metadata": "{}",
         "name": "product",
         "type": "\"string\""
        },
        {
         "metadata": "{}",
         "name": "unit",
         "type": "\"integer\""
        },
        {
         "metadata": "{}",
         "name": "price",
         "type": "\"double\""
        }
       ],
       "type": "table"
      }
     },
     "output_type": "display_data"
    }
   ],
   "source": [
    "%sql\n",
    "SELECT * FROM DELTA.`/user/hive/warehouse/compras` VERSION AS OF 1"
   ]
  },
  {
   "cell_type": "markdown",
   "metadata": {
    "application/vnd.databricks.v1+cell": {
     "cellMetadata": {},
     "inputWidgets": {},
     "nuid": "29110793-9650-4458-900a-5c56766ea1b4",
     "showTitle": false,
     "tableResultSettingsMap": {},
     "title": ""
    }
   },
   "source": [
    "## Mostrando os dados após o retorno das versões"
   ]
  },
  {
   "cell_type": "code",
   "execution_count": 0,
   "metadata": {
    "application/vnd.databricks.v1+cell": {
     "cellMetadata": {
      "byteLimit": 2048000,
      "rowLimit": 10000
     },
     "inputWidgets": {},
     "nuid": "03cb3b98-4fd0-4e91-99f3-1a35cb85375c",
     "showTitle": false,
     "tableResultSettingsMap": {},
     "title": ""
    }
   },
   "outputs": [
    {
     "output_type": "stream",
     "name": "stdout",
     "output_type": "stream",
     "text": [
      "+---+----------+--------+---------------+----+-----+\n| id|date_order|customer|        product|unit|price|\n+---+----------+--------+---------------+----+-----+\n|  2|2021-03-22|     Ana|AR-CONDICIONADO|   6|121.6|\n|  4|2021-04-23|  Sandra|      Geladeira|   8|313.0|\n|  5|2021-05-23|  Tereza|       FRIGOBAR|   3|412.0|\n|  7|2021-07-25|   Sofia|        CADEIRA|   1|342.3|\n|  3|2021-04-21|   Sofia|        FREEZER|   7|415.4|\n|  6|2021-06-25|   Carla|           MESA|   1|124.0|\n+---+----------+--------+---------------+----+-----+\n\n"
     ]
    }
   ],
   "source": [
    "spark.sql(\"SELECT * FROM compras\").show()"
   ]
  },
  {
   "cell_type": "markdown",
   "metadata": {
    "application/vnd.databricks.v1+cell": {
     "cellMetadata": {},
     "inputWidgets": {},
     "nuid": "dd3b5d3b-a242-44ff-8706-22a3c0123f95",
     "showTitle": false,
     "tableResultSettingsMap": {},
     "title": ""
    }
   },
   "source": [
    "## Clonando os dados gerados"
   ]
  },
  {
   "cell_type": "code",
   "execution_count": 0,
   "metadata": {
    "application/vnd.databricks.v1+cell": {
     "cellMetadata": {
      "byteLimit": 2048000,
      "implicitDf": true,
      "rowLimit": 10000
     },
     "inputWidgets": {},
     "nuid": "fbd40e7d-6152-4895-bd74-cf2b21fac18d",
     "showTitle": false,
     "tableResultSettingsMap": {},
     "title": ""
    }
   },
   "outputs": [
    {
     "output_type": "display_data",
     "data": {
      "text/html": [
       "<style scoped>\n",
       "  .table-result-container {\n",
       "    max-height: 300px;\n",
       "    overflow: auto;\n",
       "  }\n",
       "  table, th, td {\n",
       "    border: 1px solid black;\n",
       "    border-collapse: collapse;\n",
       "  }\n",
       "  th, td {\n",
       "    padding: 5px;\n",
       "  }\n",
       "  th {\n",
       "    text-align: left;\n",
       "  }\n",
       "</style><div class='table-result-container'><table class='table-result'><thead style='background-color: white'><tr><th>source_table_size</th><th>source_num_of_files</th><th>num_removed_files</th><th>num_copied_files</th><th>removed_files_size</th><th>copied_files_size</th></tr></thead><tbody><tr><td>9398</td><td>6</td><td>0</td><td>6</td><td>0</td><td>9398</td></tr></tbody></table></div>"
      ]
     },
     "metadata": {
      "application/vnd.databricks.v1+output": {
       "addedWidgets": {},
       "aggData": [],
       "aggError": "",
       "aggOverflow": false,
       "aggSchema": [],
       "aggSeriesLimitReached": false,
       "aggType": "",
       "arguments": {},
       "columnCustomDisplayInfos": {},
       "data": [
        [
         9398,
         6,
         0,
         6,
         0,
         9398
        ]
       ],
       "datasetInfos": [],
       "dbfsResultPath": null,
       "isJsonSchema": true,
       "metadata": {
        "dataframeName": "_sqldf",
        "executionCount": 5
       },
       "overflow": false,
       "plotOptions": {
        "customPlotOptions": {},
        "displayType": "table",
        "pivotAggregation": null,
        "pivotColumns": null,
        "xColumns": null,
        "yColumns": null
       },
       "removedWidgets": [],
       "schema": [
        {
         "metadata": "{}",
         "name": "source_table_size",
         "type": "\"long\""
        },
        {
         "metadata": "{}",
         "name": "source_num_of_files",
         "type": "\"long\""
        },
        {
         "metadata": "{}",
         "name": "num_removed_files",
         "type": "\"long\""
        },
        {
         "metadata": "{}",
         "name": "num_copied_files",
         "type": "\"long\""
        },
        {
         "metadata": "{}",
         "name": "removed_files_size",
         "type": "\"long\""
        },
        {
         "metadata": "{}",
         "name": "copied_files_size",
         "type": "\"long\""
        }
       ],
       "type": "table"
      }
     },
     "output_type": "display_data"
    }
   ],
   "source": [
    "%sql\n",
    "CREATE TABLE delta. `/temporario/hive/clonado` CLONE delta.\n",
    "`/user/hive/warehouse/compras`"
   ]
  },
  {
   "cell_type": "code",
   "execution_count": 0,
   "metadata": {
    "application/vnd.databricks.v1+cell": {
     "cellMetadata": {
      "byteLimit": 2048000,
      "rowLimit": 10000
     },
     "inputWidgets": {},
     "nuid": "e40b9201-6923-42e9-af64-50b4417a73ef",
     "showTitle": false,
     "tableResultSettingsMap": {},
     "title": ""
    }
   },
   "outputs": [
    {
     "output_type": "display_data",
     "data": {
      "text/html": [
       "<style scoped>\n",
       "  .table-result-container {\n",
       "    max-height: 300px;\n",
       "    overflow: auto;\n",
       "  }\n",
       "  table, th, td {\n",
       "    border: 1px solid black;\n",
       "    border-collapse: collapse;\n",
       "  }\n",
       "  th, td {\n",
       "    padding: 5px;\n",
       "  }\n",
       "  th {\n",
       "    text-align: left;\n",
       "  }\n",
       "</style><div class='table-result-container'><table class='table-result'><thead style='background-color: white'><tr><th>path</th><th>name</th><th>size</th><th>modificationTime</th></tr></thead><tbody><tr><td>dbfs:/temporario/hive/clonado/_delta_log/</td><td>_delta_log/</td><td>0</td><td>0</td></tr><tr><td>dbfs:/temporario/hive/clonado/date_order=2021-03-22/</td><td>date_order=2021-03-22/</td><td>0</td><td>0</td></tr><tr><td>dbfs:/temporario/hive/clonado/date_order=2021-04-21/</td><td>date_order=2021-04-21/</td><td>0</td><td>0</td></tr><tr><td>dbfs:/temporario/hive/clonado/date_order=2021-04-23/</td><td>date_order=2021-04-23/</td><td>0</td><td>0</td></tr><tr><td>dbfs:/temporario/hive/clonado/date_order=2021-05-23/</td><td>date_order=2021-05-23/</td><td>0</td><td>0</td></tr><tr><td>dbfs:/temporario/hive/clonado/date_order=2021-06-25/</td><td>date_order=2021-06-25/</td><td>0</td><td>0</td></tr><tr><td>dbfs:/temporario/hive/clonado/date_order=2021-07-25/</td><td>date_order=2021-07-25/</td><td>0</td><td>0</td></tr></tbody></table></div>"
      ]
     },
     "metadata": {
      "application/vnd.databricks.v1+output": {
       "addedWidgets": {},
       "aggData": [],
       "aggError": "",
       "aggOverflow": false,
       "aggSchema": [],
       "aggSeriesLimitReached": false,
       "aggType": "",
       "arguments": {},
       "columnCustomDisplayInfos": {},
       "data": [
        [
         "dbfs:/temporario/hive/clonado/_delta_log/",
         "_delta_log/",
         0,
         0
        ],
        [
         "dbfs:/temporario/hive/clonado/date_order=2021-03-22/",
         "date_order=2021-03-22/",
         0,
         0
        ],
        [
         "dbfs:/temporario/hive/clonado/date_order=2021-04-21/",
         "date_order=2021-04-21/",
         0,
         0
        ],
        [
         "dbfs:/temporario/hive/clonado/date_order=2021-04-23/",
         "date_order=2021-04-23/",
         0,
         0
        ],
        [
         "dbfs:/temporario/hive/clonado/date_order=2021-05-23/",
         "date_order=2021-05-23/",
         0,
         0
        ],
        [
         "dbfs:/temporario/hive/clonado/date_order=2021-06-25/",
         "date_order=2021-06-25/",
         0,
         0
        ],
        [
         "dbfs:/temporario/hive/clonado/date_order=2021-07-25/",
         "date_order=2021-07-25/",
         0,
         0
        ]
       ],
       "datasetInfos": [],
       "dbfsResultPath": null,
       "isJsonSchema": true,
       "metadata": {
        "isDbfsCommandResult": false
       },
       "overflow": false,
       "plotOptions": {
        "customPlotOptions": {},
        "displayType": "table",
        "pivotAggregation": null,
        "pivotColumns": null,
        "xColumns": null,
        "yColumns": null
       },
       "removedWidgets": [],
       "schema": [
        {
         "metadata": "{}",
         "name": "path",
         "type": "\"string\""
        },
        {
         "metadata": "{}",
         "name": "name",
         "type": "\"string\""
        },
        {
         "metadata": "{}",
         "name": "size",
         "type": "\"long\""
        },
        {
         "metadata": "{}",
         "name": "modificationTime",
         "type": "\"long\""
        }
       ],
       "type": "table"
      }
     },
     "output_type": "display_data"
    }
   ],
   "source": [
    "%fs\n",
    "ls /temporario/hive/clonado"
   ]
  },
  {
   "cell_type": "markdown",
   "metadata": {
    "application/vnd.databricks.v1+cell": {
     "cellMetadata": {},
     "inputWidgets": {},
     "nuid": "bfad107b-39ec-4cb1-b1b7-5b58771669f7",
     "showTitle": false,
     "tableResultSettingsMap": {},
     "title": ""
    }
   },
   "source": [
    "## Restaurando em definitivo os dados na tabela compras\n"
   ]
  },
  {
   "cell_type": "code",
   "execution_count": 0,
   "metadata": {
    "application/vnd.databricks.v1+cell": {
     "cellMetadata": {
      "byteLimit": 2048000,
      "implicitDf": true,
      "rowLimit": 10000
     },
     "inputWidgets": {},
     "nuid": "08eb0e6f-31f0-4b9d-9faf-bc9b0a81cc7a",
     "showTitle": false,
     "tableResultSettingsMap": {},
     "title": ""
    }
   },
   "outputs": [
    {
     "output_type": "display_data",
     "data": {
      "text/html": [
       "<style scoped>\n",
       "  .table-result-container {\n",
       "    max-height: 300px;\n",
       "    overflow: auto;\n",
       "  }\n",
       "  table, th, td {\n",
       "    border: 1px solid black;\n",
       "    border-collapse: collapse;\n",
       "  }\n",
       "  th, td {\n",
       "    padding: 5px;\n",
       "  }\n",
       "  th {\n",
       "    text-align: left;\n",
       "  }\n",
       "</style><div class='table-result-container'><table class='table-result'><thead style='background-color: white'><tr><th>table_size_after_restore</th><th>num_of_files_after_restore</th><th>num_removed_files</th><th>num_restored_files</th><th>removed_files_size</th><th>restored_files_size</th></tr></thead><tbody><tr><td>10926</td><td>7</td><td>0</td><td>1</td><td>0</td><td>1528</td></tr></tbody></table></div>"
      ]
     },
     "metadata": {
      "application/vnd.databricks.v1+output": {
       "addedWidgets": {},
       "aggData": [],
       "aggError": "",
       "aggOverflow": false,
       "aggSchema": [],
       "aggSeriesLimitReached": false,
       "aggType": "",
       "arguments": {},
       "columnCustomDisplayInfos": {},
       "data": [
        [
         10926,
         7,
         0,
         1,
         0,
         1528
        ]
       ],
       "datasetInfos": [],
       "dbfsResultPath": null,
       "isJsonSchema": true,
       "metadata": {
        "dataframeName": "_sqldf",
        "executionCount": 7
       },
       "overflow": false,
       "plotOptions": {
        "customPlotOptions": {},
        "displayType": "table",
        "pivotAggregation": null,
        "pivotColumns": null,
        "xColumns": null,
        "yColumns": null
       },
       "removedWidgets": [],
       "schema": [
        {
         "metadata": "{}",
         "name": "table_size_after_restore",
         "type": "\"long\""
        },
        {
         "metadata": "{}",
         "name": "num_of_files_after_restore",
         "type": "\"long\""
        },
        {
         "metadata": "{}",
         "name": "num_removed_files",
         "type": "\"long\""
        },
        {
         "metadata": "{}",
         "name": "num_restored_files",
         "type": "\"long\""
        },
        {
         "metadata": "{}",
         "name": "removed_files_size",
         "type": "\"long\""
        },
        {
         "metadata": "{}",
         "name": "restored_files_size",
         "type": "\"long\""
        }
       ],
       "type": "table"
      }
     },
     "output_type": "display_data"
    }
   ],
   "source": [
    "%sql\n",
    "RESTORE TABLE compras TO VERSION AS OF 2"
   ]
  },
  {
   "cell_type": "markdown",
   "metadata": {
    "application/vnd.databricks.v1+cell": {
     "cellMetadata": {},
     "inputWidgets": {},
     "nuid": "36f5ddf7-b774-4f9c-aee3-877582e76f32",
     "showTitle": false,
     "tableResultSettingsMap": {},
     "title": ""
    }
   },
   "source": [
    "## Mostrando os dados restaurados"
   ]
  },
  {
   "cell_type": "code",
   "execution_count": 0,
   "metadata": {
    "application/vnd.databricks.v1+cell": {
     "cellMetadata": {
      "byteLimit": 2048000,
      "rowLimit": 10000
     },
     "inputWidgets": {},
     "nuid": "9d078168-0a1b-45c1-b4fc-41b01e1c11db",
     "showTitle": false,
     "tableResultSettingsMap": {},
     "title": ""
    }
   },
   "outputs": [
    {
     "output_type": "display_data",
     "data": {
      "text/html": [
       "<style scoped>\n",
       "  .table-result-container {\n",
       "    max-height: 300px;\n",
       "    overflow: auto;\n",
       "  }\n",
       "  table, th, td {\n",
       "    border: 1px solid black;\n",
       "    border-collapse: collapse;\n",
       "  }\n",
       "  th, td {\n",
       "    padding: 5px;\n",
       "  }\n",
       "  th {\n",
       "    text-align: left;\n",
       "  }\n",
       "</style><div class='table-result-container'><table class='table-result'><thead style='background-color: white'><tr><th>id</th><th>date_order</th><th>customer</th><th>product</th><th>unit</th><th>price</th></tr></thead><tbody><tr><td>2</td><td>2021-03-22</td><td>Ana</td><td>AR-CONDICIONADO</td><td>6</td><td>121.6</td></tr><tr><td>4</td><td>2021-04-23</td><td>Sandra</td><td>Geladeira</td><td>8</td><td>313.0</td></tr><tr><td>5</td><td>2021-05-23</td><td>Tereza</td><td>FRIGOBAR</td><td>3</td><td>412.0</td></tr><tr><td>7</td><td>2021-07-25</td><td>Sofia</td><td>CADEIRA</td><td>1</td><td>342.3</td></tr><tr><td>3</td><td>2021-04-21</td><td>Sofia</td><td>FREEZER</td><td>7</td><td>415.4</td></tr><tr><td>6</td><td>2021-06-25</td><td>Carla</td><td>MESA</td><td>1</td><td>124.0</td></tr><tr><td>1</td><td>2021-01-23</td><td>Carlos</td><td>TV</td><td>5</td><td>238.0</td></tr></tbody></table></div>"
      ]
     },
     "metadata": {
      "application/vnd.databricks.v1+output": {
       "addedWidgets": {},
       "aggData": [],
       "aggError": "",
       "aggOverflow": false,
       "aggSchema": [],
       "aggSeriesLimitReached": false,
       "aggType": "",
       "arguments": {},
       "columnCustomDisplayInfos": {},
       "data": [
        [
         "2",
         "2021-03-22",
         "Ana",
         "AR-CONDICIONADO",
         6,
         121.6
        ],
        [
         "4",
         "2021-04-23",
         "Sandra",
         "Geladeira",
         8,
         313.0
        ],
        [
         "5",
         "2021-05-23",
         "Tereza",
         "FRIGOBAR",
         3,
         412.0
        ],
        [
         "7",
         "2021-07-25",
         "Sofia",
         "CADEIRA",
         1,
         342.3
        ],
        [
         "3",
         "2021-04-21",
         "Sofia",
         "FREEZER",
         7,
         415.4
        ],
        [
         "6",
         "2021-06-25",
         "Carla",
         "MESA",
         1,
         124.0
        ],
        [
         "1",
         "2021-01-23",
         "Carlos",
         "TV",
         5,
         238.0
        ]
       ],
       "datasetInfos": [],
       "dbfsResultPath": null,
       "isJsonSchema": true,
       "metadata": {},
       "overflow": false,
       "plotOptions": {
        "customPlotOptions": {},
        "displayType": "table",
        "pivotAggregation": null,
        "pivotColumns": null,
        "xColumns": null,
        "yColumns": null
       },
       "removedWidgets": [],
       "schema": [
        {
         "metadata": "{}",
         "name": "id",
         "type": "\"string\""
        },
        {
         "metadata": "{}",
         "name": "date_order",
         "type": "\"string\""
        },
        {
         "metadata": "{}",
         "name": "customer",
         "type": "\"string\""
        },
        {
         "metadata": "{}",
         "name": "product",
         "type": "\"string\""
        },
        {
         "metadata": "{}",
         "name": "unit",
         "type": "\"integer\""
        },
        {
         "metadata": "{}",
         "name": "price",
         "type": "\"double\""
        }
       ],
       "type": "table"
      }
     },
     "output_type": "display_data"
    }
   ],
   "source": [
    "spark.sql(\"select * from compras\").display()"
   ]
  },
  {
   "cell_type": "code",
   "execution_count": 0,
   "metadata": {
    "application/vnd.databricks.v1+cell": {
     "cellMetadata": {
      "byteLimit": 2048000,
      "implicitDf": true,
      "rowLimit": 10000
     },
     "inputWidgets": {},
     "nuid": "3837021c-040f-487c-976d-a02d43ea2a95",
     "showTitle": false,
     "tableResultSettingsMap": {},
     "title": ""
    }
   },
   "outputs": [
    {
     "output_type": "display_data",
     "data": {
      "text/html": [
       "<style scoped>\n",
       "  .table-result-container {\n",
       "    max-height: 300px;\n",
       "    overflow: auto;\n",
       "  }\n",
       "  table, th, td {\n",
       "    border: 1px solid black;\n",
       "    border-collapse: collapse;\n",
       "  }\n",
       "  th, td {\n",
       "    padding: 5px;\n",
       "  }\n",
       "  th {\n",
       "    text-align: left;\n",
       "  }\n",
       "</style><div class='table-result-container'><table class='table-result'><thead style='background-color: white'><tr><th>version</th><th>timestamp</th><th>userId</th><th>userName</th><th>operation</th><th>operationParameters</th><th>job</th><th>notebook</th><th>clusterId</th><th>readVersion</th><th>isolationLevel</th><th>isBlindAppend</th><th>operationMetrics</th><th>userMetadata</th><th>engineInfo</th></tr></thead><tbody><tr><td>4</td><td>2025-02-03T12:08:28Z</td><td>1902736859492428</td><td>janataaruanda@gmail.com</td><td>RESTORE</td><td>Map(version -> 2, timestamp -> null)</td><td>null</td><td>List(3786012404039006)</td><td>0203-112311-m6241cwo</td><td>3</td><td>Serializable</td><td>false</td><td>Map(numRestoredFiles -> 1, removedFilesSize -> 0, numRemovedFiles -> 0, restoredFilesSize -> 1528, numOfFilesAfterRestore -> 7, tableSizeAfterRestore -> 10926)</td><td>null</td><td>Databricks-Runtime/14.1.x-scala2.12</td></tr><tr><td>3</td><td>2025-02-03T11:43:23Z</td><td>1902736859492428</td><td>janataaruanda@gmail.com</td><td>DELETE</td><td>Map(predicate -> [\"(cast(id#2608 as int) = 1)\"])</td><td>null</td><td>List(3786012404038980)</td><td>0203-112311-m6241cwo</td><td>2</td><td>WriteSerializable</td><td>false</td><td>Map(numRemovedFiles -> 1, numRemovedBytes -> 1528, numCopiedRows -> 0, numDeletionVectorsAdded -> 0, numDeletionVectorsRemoved -> 0, numAddedChangeFiles -> 0, executionTimeMs -> 2151, numDeletionVectorsUpdated -> 0, numDeletedRows -> 1, scanTimeMs -> 1300, numAddedFiles -> 0, numAddedBytes -> 0, rewriteTimeMs -> 851)</td><td>null</td><td>Databricks-Runtime/14.1.x-scala2.12</td></tr><tr><td>2</td><td>2025-02-03T11:42:16Z</td><td>1902736859492428</td><td>janataaruanda@gmail.com</td><td>UPDATE</td><td>Map(predicate -> [\"(cast(id#1861 as int) = 4)\"])</td><td>null</td><td>List(3786012404038980)</td><td>0203-112311-m6241cwo</td><td>1</td><td>WriteSerializable</td><td>false</td><td>Map(numRemovedFiles -> 1, numRemovedBytes -> 1528, numCopiedRows -> 0, numDeletionVectorsAdded -> 0, numDeletionVectorsRemoved -> 0, numAddedChangeFiles -> 0, executionTimeMs -> 3557, scanTimeMs -> 2180, numAddedFiles -> 1, numUpdatedRows -> 1, numAddedBytes -> 1578, rewriteTimeMs -> 1361)</td><td>null</td><td>Databricks-Runtime/14.1.x-scala2.12</td></tr><tr><td>1</td><td>2025-02-03T11:40:25Z</td><td>1902736859492428</td><td>janataaruanda@gmail.com</td><td>MERGE</td><td>Map(predicate -> [\"(cast(id#865 as bigint) = id#23L)\"], matchedPredicates -> [{\"actionType\":\"update\"}], statsOnLoad -> false, notMatchedBySourcePredicates -> [], notMatchedPredicates -> [{\"actionType\":\"insert\"}])</td><td>null</td><td>List(3786012404038980)</td><td>0203-112311-m6241cwo</td><td>0</td><td>WriteSerializable</td><td>false</td><td>Map(numTargetRowsCopied -> 0, numTargetRowsDeleted -> 0, numTargetFilesAdded -> 7, numTargetBytesAdded -> 10876, numTargetBytesRemoved -> 0, numTargetDeletionVectorsAdded -> 0, numTargetRowsMatchedUpdated -> 0, executionTimeMs -> 10983, materializeSourceTimeMs -> 515, numTargetRowsInserted -> 7, numTargetRowsMatchedDeleted -> 0, scanTimeMs -> 2750, numTargetRowsUpdated -> 0, numOutputRows -> 7, numTargetDeletionVectorsRemoved -> 0, numTargetRowsNotMatchedBySourceUpdated -> 0, numTargetChangeFilesAdded -> 0, numSourceRows -> 7, numTargetFilesRemoved -> 0, numTargetRowsNotMatchedBySourceDeleted -> 0, rewriteTimeMs -> 7492)</td><td>null</td><td>Databricks-Runtime/14.1.x-scala2.12</td></tr><tr><td>0</td><td>2025-02-03T11:39:00Z</td><td>1902736859492428</td><td>janataaruanda@gmail.com</td><td>CREATE OR REPLACE TABLE</td><td>Map(partitionBy -> [\"date_order\"], description -> null, isManaged -> true, properties -> {}, statsOnLoad -> false)</td><td>null</td><td>List(3786012404038980)</td><td>0203-112311-m6241cwo</td><td>null</td><td>WriteSerializable</td><td>true</td><td>Map()</td><td>null</td><td>Databricks-Runtime/14.1.x-scala2.12</td></tr></tbody></table></div>"
      ]
     },
     "metadata": {
      "application/vnd.databricks.v1+output": {
       "addedWidgets": {},
       "aggData": [],
       "aggError": "",
       "aggOverflow": false,
       "aggSchema": [],
       "aggSeriesLimitReached": false,
       "aggType": "",
       "arguments": {},
       "columnCustomDisplayInfos": {},
       "data": [
        [
         4,
         "2025-02-03T12:08:28Z",
         "1902736859492428",
         "janataaruanda@gmail.com",
         "RESTORE",
         {
          "timestamp": null,
          "version": "2"
         },
         null,
         [
          "3786012404039006"
         ],
         "0203-112311-m6241cwo",
         3,
         "Serializable",
         false,
         {
          "numOfFilesAfterRestore": "7",
          "numRemovedFiles": "0",
          "numRestoredFiles": "1",
          "removedFilesSize": "0",
          "restoredFilesSize": "1528",
          "tableSizeAfterRestore": "10926"
         },
         null,
         "Databricks-Runtime/14.1.x-scala2.12"
        ],
        [
         3,
         "2025-02-03T11:43:23Z",
         "1902736859492428",
         "janataaruanda@gmail.com",
         "DELETE",
         {
          "predicate": "[\"(cast(id#2608 as int) = 1)\"]"
         },
         null,
         [
          "3786012404038980"
         ],
         "0203-112311-m6241cwo",
         2,
         "WriteSerializable",
         false,
         {
          "executionTimeMs": "2151",
          "numAddedBytes": "0",
          "numAddedChangeFiles": "0",
          "numAddedFiles": "0",
          "numCopiedRows": "0",
          "numDeletedRows": "1",
          "numDeletionVectorsAdded": "0",
          "numDeletionVectorsRemoved": "0",
          "numDeletionVectorsUpdated": "0",
          "numRemovedBytes": "1528",
          "numRemovedFiles": "1",
          "rewriteTimeMs": "851",
          "scanTimeMs": "1300"
         },
         null,
         "Databricks-Runtime/14.1.x-scala2.12"
        ],
        [
         2,
         "2025-02-03T11:42:16Z",
         "1902736859492428",
         "janataaruanda@gmail.com",
         "UPDATE",
         {
          "predicate": "[\"(cast(id#1861 as int) = 4)\"]"
         },
         null,
         [
          "3786012404038980"
         ],
         "0203-112311-m6241cwo",
         1,
         "WriteSerializable",
         false,
         {
          "executionTimeMs": "3557",
          "numAddedBytes": "1578",
          "numAddedChangeFiles": "0",
          "numAddedFiles": "1",
          "numCopiedRows": "0",
          "numDeletionVectorsAdded": "0",
          "numDeletionVectorsRemoved": "0",
          "numRemovedBytes": "1528",
          "numRemovedFiles": "1",
          "numUpdatedRows": "1",
          "rewriteTimeMs": "1361",
          "scanTimeMs": "2180"
         },
         null,
         "Databricks-Runtime/14.1.x-scala2.12"
        ],
        [
         1,
         "2025-02-03T11:40:25Z",
         "1902736859492428",
         "janataaruanda@gmail.com",
         "MERGE",
         {
          "matchedPredicates": "[{\"actionType\":\"update\"}]",
          "notMatchedBySourcePredicates": "[]",
          "notMatchedPredicates": "[{\"actionType\":\"insert\"}]",
          "predicate": "[\"(cast(id#865 as bigint) = id#23L)\"]",
          "statsOnLoad": "false"
         },
         null,
         [
          "3786012404038980"
         ],
         "0203-112311-m6241cwo",
         0,
         "WriteSerializable",
         false,
         {
          "executionTimeMs": "10983",
          "materializeSourceTimeMs": "515",
          "numOutputRows": "7",
          "numSourceRows": "7",
          "numTargetBytesAdded": "10876",
          "numTargetBytesRemoved": "0",
          "numTargetChangeFilesAdded": "0",
          "numTargetDeletionVectorsAdded": "0",
          "numTargetDeletionVectorsRemoved": "0",
          "numTargetFilesAdded": "7",
          "numTargetFilesRemoved": "0",
          "numTargetRowsCopied": "0",
          "numTargetRowsDeleted": "0",
          "numTargetRowsInserted": "7",
          "numTargetRowsMatchedDeleted": "0",
          "numTargetRowsMatchedUpdated": "0",
          "numTargetRowsNotMatchedBySourceDeleted": "0",
          "numTargetRowsNotMatchedBySourceUpdated": "0",
          "numTargetRowsUpdated": "0",
          "rewriteTimeMs": "7492",
          "scanTimeMs": "2750"
         },
         null,
         "Databricks-Runtime/14.1.x-scala2.12"
        ],
        [
         0,
         "2025-02-03T11:39:00Z",
         "1902736859492428",
         "janataaruanda@gmail.com",
         "CREATE OR REPLACE TABLE",
         {
          "description": null,
          "isManaged": "true",
          "partitionBy": "[\"date_order\"]",
          "properties": "{}",
          "statsOnLoad": "false"
         },
         null,
         [
          "3786012404038980"
         ],
         "0203-112311-m6241cwo",
         null,
         "WriteSerializable",
         true,
         {},
         null,
         "Databricks-Runtime/14.1.x-scala2.12"
        ]
       ],
       "datasetInfos": [],
       "dbfsResultPath": null,
       "isJsonSchema": true,
       "metadata": {
        "dataframeName": "_sqldf",
        "executionCount": 9
       },
       "overflow": false,
       "plotOptions": {
        "customPlotOptions": {},
        "displayType": "table",
        "pivotAggregation": null,
        "pivotColumns": null,
        "xColumns": null,
        "yColumns": null
       },
       "removedWidgets": [],
       "schema": [
        {
         "metadata": "{}",
         "name": "version",
         "type": "\"long\""
        },
        {
         "metadata": "{}",
         "name": "timestamp",
         "type": "\"timestamp\""
        },
        {
         "metadata": "{}",
         "name": "userId",
         "type": "\"string\""
        },
        {
         "metadata": "{}",
         "name": "userName",
         "type": "\"string\""
        },
        {
         "metadata": "{}",
         "name": "operation",
         "type": "\"string\""
        },
        {
         "metadata": "{}",
         "name": "operationParameters",
         "type": "{\"type\":\"map\",\"keyType\":\"string\",\"valueType\":\"string\",\"valueContainsNull\":true}"
        },
        {
         "metadata": "{}",
         "name": "job",
         "type": "{\"type\":\"struct\",\"fields\":[{\"name\":\"jobId\",\"type\":\"string\",\"nullable\":true,\"metadata\":{}},{\"name\":\"jobName\",\"type\":\"string\",\"nullable\":true,\"metadata\":{}},{\"name\":\"jobRunId\",\"type\":\"string\",\"nullable\":true,\"metadata\":{}},{\"name\":\"runId\",\"type\":\"string\",\"nullable\":true,\"metadata\":{}},{\"name\":\"jobOwnerId\",\"type\":\"string\",\"nullable\":true,\"metadata\":{}},{\"name\":\"triggerType\",\"type\":\"string\",\"nullable\":true,\"metadata\":{}}]}"
        },
        {
         "metadata": "{}",
         "name": "notebook",
         "type": "{\"type\":\"struct\",\"fields\":[{\"name\":\"notebookId\",\"type\":\"string\",\"nullable\":true,\"metadata\":{}}]}"
        },
        {
         "metadata": "{}",
         "name": "clusterId",
         "type": "\"string\""
        },
        {
         "metadata": "{}",
         "name": "readVersion",
         "type": "\"long\""
        },
        {
         "metadata": "{}",
         "name": "isolationLevel",
         "type": "\"string\""
        },
        {
         "metadata": "{}",
         "name": "isBlindAppend",
         "type": "\"boolean\""
        },
        {
         "metadata": "{}",
         "name": "operationMetrics",
         "type": "{\"type\":\"map\",\"keyType\":\"string\",\"valueType\":\"string\",\"valueContainsNull\":true}"
        },
        {
         "metadata": "{}",
         "name": "userMetadata",
         "type": "\"string\""
        },
        {
         "metadata": "{}",
         "name": "engineInfo",
         "type": "\"string\""
        }
       ],
       "type": "table"
      }
     },
     "output_type": "display_data"
    }
   ],
   "source": [
    "%sql\n",
    "DESCRIBE HISTORY '/user/hive/warehouse/compras'"
   ]
  }
 ],
 "metadata": {
  "application/vnd.databricks.v1+notebook": {
   "computePreferences": null,
   "dashboards": [],
   "environmentMetadata": {
    "base_environment": "",
    "client": "1"
   },
   "language": "python",
   "notebookMetadata": {
    "mostRecentlyExecutedCommandWithImplicitDF": {
     "commandId": 3786012404039023,
     "dataframes": [
      "_sqldf"
     ]
    },
    "pythonIndentUnit": 4
   },
   "notebookName": "List_task_delta_lake",
   "widgets": {}
  }
 },
 "nbformat": 4,
 "nbformat_minor": 0
}
