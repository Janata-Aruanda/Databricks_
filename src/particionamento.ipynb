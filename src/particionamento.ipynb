{
 "cells": [
  {
   "cell_type": "markdown",
   "metadata": {
    "application/vnd.databricks.v1+cell": {
     "cellMetadata": {},
     "inputWidgets": {},
     "nuid": "36526013-d9f3-4cab-a180-e51d6c66c3f5",
     "showTitle": false,
     "tableResultSettingsMap": {},
     "title": ""
    }
   },
   "source": [
    "## Criando Dataframme "
   ]
  },
  {
   "cell_type": "code",
   "execution_count": 0,
   "metadata": {
    "application/vnd.databricks.v1+cell": {
     "cellMetadata": {
      "byteLimit": 2048000,
      "rowLimit": 10000
     },
     "inputWidgets": {},
     "nuid": "30f8dc9d-f7e8-407d-876a-7ebc0ed3644c",
     "showTitle": false,
     "tableResultSettingsMap": {},
     "title": ""
    }
   },
   "outputs": [
    {
     "output_type": "stream",
     "name": "stdout",
     "output_type": "stream",
     "text": [
      "+-------------+-----------+-------------+---------+------+-------+\n|Primeiro_Nome|Ultimo_nome|Nacionalidade| Trabalho|Genero|Salario|\n+-------------+-----------+-------------+---------+------+-------+\n|     Grimaldo|   Oliveira|   Brasileira|Professor|     M|   3000|\n|          Ana|     Santos|   Portuguesa|    Atriz|     F|   4000|\n|      Roberto|     Carlos|   Brasileira| Analista|     M|   4000|\n|        Maria|   Santanna|     Italiana| Dentista|     F|   6000|\n|        Jeane|    Andrade|      Inglesa|   Medica|     F|   7000|\n+-------------+-----------+-------------+---------+------+-------+\n\n"
     ]
    }
   ],
   "source": [
    "# Criando um DataFrame com dados fixos\n",
    "dados = [\n",
    "    (\"Grimaldo\", \"Oliveira\", \"Brasileira\", \"Professor\", \"M\", 3000),\n",
    "    (\"Ana\", \"Santos\", \"Portuguesa\", \"Atriz\", \"F\", 4000),\n",
    "    (\"Roberto\", \"Carlos\", \"Brasileira\", \"Analista\", \"M\", 4000),\n",
    "    (\"Maria\", \"Santanna\", \"Italiana\", \"Dentista\", \"F\", 6000),\n",
    "    (\"Jeane\", \"Andrade\", \"Inglesa\", \"Medica\", \"F\", 7000)\n",
    "]\n",
    "\n",
    "colunas = [\"Primeiro_Nome\", \"Ultimo_nome\", \"Nacionalidade\", \"Trabalho\", \"Genero\", \"Salario\"]\n",
    "\n",
    "# Criando o DataFrame no Spark\n",
    "datafparquet = spark.createDataFrame(dados, colunas)\n",
    "\n",
    "# Exibindo o conteúdo do DataFrame\n",
    "datafparquet.show()\n"
   ]
  },
  {
   "cell_type": "markdown",
   "metadata": {
    "application/vnd.databricks.v1+cell": {
     "cellMetadata": {},
     "inputWidgets": {},
     "nuid": "845f893e-d463-4bb2-ac2e-96b41c4d25cf",
     "showTitle": false,
     "tableResultSettingsMap": {},
     "title": ""
    }
   },
   "source": [
    "## Particionando os dados do arquivo parquet em grupos"
   ]
  },
  {
   "cell_type": "code",
   "execution_count": 0,
   "metadata": {
    "application/vnd.databricks.v1+cell": {
     "cellMetadata": {
      "byteLimit": 2048000,
      "rowLimit": 10000
     },
     "inputWidgets": {},
     "nuid": "fdc157f1-ee89-4069-bd31-b1cee3424aa3",
     "showTitle": false,
     "tableResultSettingsMap": {},
     "title": ""
    }
   },
   "outputs": [],
   "source": [
    "datafparquet.write.partitionBy(\"Nacionalidade\", \"Salario\").format(\"parquet\").save(\"/FileStore/tables/parquet/pessoal.parquet\")"
   ]
  },
  {
   "cell_type": "code",
   "execution_count": 0,
   "metadata": {
    "application/vnd.databricks.v1+cell": {
     "cellMetadata": {
      "byteLimit": 2048000,
      "rowLimit": 10000
     },
     "inputWidgets": {},
     "nuid": "d66b43be-884e-4b38-b940-6bfc1cbde589",
     "showTitle": false,
     "tableResultSettingsMap": {},
     "title": ""
    }
   },
   "outputs": [
    {
     "output_type": "display_data",
     "data": {
      "text/html": [
       "<style scoped>\n",
       "  .table-result-container {\n",
       "    max-height: 300px;\n",
       "    overflow: auto;\n",
       "  }\n",
       "  table, th, td {\n",
       "    border: 1px solid black;\n",
       "    border-collapse: collapse;\n",
       "  }\n",
       "  th, td {\n",
       "    padding: 5px;\n",
       "  }\n",
       "  th {\n",
       "    text-align: left;\n",
       "  }\n",
       "</style><div class='table-result-container'><table class='table-result'><thead style='background-color: white'><tr><th>path</th><th>name</th><th>size</th><th>modificationTime</th></tr></thead><tbody><tr><td>dbfs:/FileStore/tables/parquet/pessoal.parquet/Nacionalidade=Brasileira/</td><td>Nacionalidade=Brasileira/</td><td>0</td><td>0</td></tr><tr><td>dbfs:/FileStore/tables/parquet/pessoal.parquet/Nacionalidade=Inglesa/</td><td>Nacionalidade=Inglesa/</td><td>0</td><td>0</td></tr><tr><td>dbfs:/FileStore/tables/parquet/pessoal.parquet/Nacionalidade=Italiana/</td><td>Nacionalidade=Italiana/</td><td>0</td><td>0</td></tr><tr><td>dbfs:/FileStore/tables/parquet/pessoal.parquet/Nacionalidade=Portuguesa/</td><td>Nacionalidade=Portuguesa/</td><td>0</td><td>0</td></tr><tr><td>dbfs:/FileStore/tables/parquet/pessoal.parquet/_SUCCESS</td><td>_SUCCESS</td><td>0</td><td>1738350222000</td></tr></tbody></table></div>"
      ]
     },
     "metadata": {
      "application/vnd.databricks.v1+output": {
       "addedWidgets": {},
       "aggData": [],
       "aggError": "",
       "aggOverflow": false,
       "aggSchema": [],
       "aggSeriesLimitReached": false,
       "aggType": "",
       "arguments": {},
       "columnCustomDisplayInfos": {},
       "data": [
        [
         "dbfs:/FileStore/tables/parquet/pessoal.parquet/Nacionalidade=Brasileira/",
         "Nacionalidade=Brasileira/",
         0,
         0
        ],
        [
         "dbfs:/FileStore/tables/parquet/pessoal.parquet/Nacionalidade=Inglesa/",
         "Nacionalidade=Inglesa/",
         0,
         0
        ],
        [
         "dbfs:/FileStore/tables/parquet/pessoal.parquet/Nacionalidade=Italiana/",
         "Nacionalidade=Italiana/",
         0,
         0
        ],
        [
         "dbfs:/FileStore/tables/parquet/pessoal.parquet/Nacionalidade=Portuguesa/",
         "Nacionalidade=Portuguesa/",
         0,
         0
        ],
        [
         "dbfs:/FileStore/tables/parquet/pessoal.parquet/_SUCCESS",
         "_SUCCESS",
         0,
         1738350222000
        ]
       ],
       "datasetInfos": [],
       "dbfsResultPath": null,
       "isJsonSchema": true,
       "metadata": {
        "isDbfsCommandResult": false
       },
       "overflow": false,
       "plotOptions": {
        "customPlotOptions": {},
        "displayType": "table",
        "pivotAggregation": null,
        "pivotColumns": null,
        "xColumns": null,
        "yColumns": null
       },
       "removedWidgets": [],
       "schema": [
        {
         "metadata": "{}",
         "name": "path",
         "type": "\"string\""
        },
        {
         "metadata": "{}",
         "name": "name",
         "type": "\"string\""
        },
        {
         "metadata": "{}",
         "name": "size",
         "type": "\"long\""
        },
        {
         "metadata": "{}",
         "name": "modificationTime",
         "type": "\"long\""
        }
       ],
       "type": "table"
      }
     },
     "output_type": "display_data"
    }
   ],
   "source": [
    "%fs  ls /FileStore/tables/parquet/pessoal.parquet"
   ]
  },
  {
   "cell_type": "markdown",
   "metadata": {
    "application/vnd.databricks.v1+cell": {
     "cellMetadata": {},
     "inputWidgets": {},
     "nuid": "f89edaa3-ca87-4674-a7c3-82753c0a7f92",
     "showTitle": false,
     "tableResultSettingsMap": {},
     "title": ""
    }
   },
   "source": [
    "## Exibindo os dados do parquet cuja a nacionalidade é brasleira\n"
   ]
  },
  {
   "cell_type": "code",
   "execution_count": 0,
   "metadata": {
    "application/vnd.databricks.v1+cell": {
     "cellMetadata": {
      "byteLimit": 2048000,
      "rowLimit": 10000
     },
     "inputWidgets": {},
     "nuid": "e32df3d2-9a78-46fd-8d82-53698e5ad4c2",
     "showTitle": false,
     "tableResultSettingsMap": {},
     "title": ""
    }
   },
   "outputs": [
    {
     "output_type": "stream",
     "name": "stdout",
     "output_type": "stream",
     "text": [
      "+-------------+-----------+---------+------+-------+\n|Primeiro_Nome|Ultimo_nome|Trabalho |Genero|Salario|\n+-------------+-----------+---------+------+-------+\n|Grimaldo     |Oliveira   |Professor|M     |3000   |\n|Roberto      |Carlos     |Analista |M     |4000   |\n+-------------+-----------+---------+------+-------+\n\n"
     ]
    }
   ],
   "source": [
    "datafnascional = spark.read.format(\"parquet\").load(\"/FileStore/tables/parquet/pessoal.parquet/Nacionalidade=Brasileira/\")\n",
    "datafnascional.show(truncate=False)"
   ]
  },
  {
   "cell_type": "markdown",
   "metadata": {
    "application/vnd.databricks.v1+cell": {
     "cellMetadata": {},
     "inputWidgets": {},
     "nuid": "d853ca7a-2fb4-443f-bd49-e0575a7d77ec",
     "showTitle": false,
     "tableResultSettingsMap": {},
     "title": ""
    }
   },
   "source": [
    "## Realizar comando SQL no arquivo particionado\n"
   ]
  },
  {
   "cell_type": "code",
   "execution_count": 0,
   "metadata": {
    "application/vnd.databricks.v1+cell": {
     "cellMetadata": {
      "byteLimit": 2048000,
      "rowLimit": 10000
     },
     "inputWidgets": {},
     "nuid": "6816be33-79e5-43ac-a309-352962ccc033",
     "showTitle": false,
     "tableResultSettingsMap": {},
     "title": ""
    }
   },
   "outputs": [
    {
     "output_type": "stream",
     "name": "stdout",
     "output_type": "stream",
     "text": [
      "+-------------+-----------+--------+------+-------+\n|Primeiro_Nome|Ultimo_nome|Trabalho|Genero|Salario|\n+-------------+-----------+--------+------+-------+\n|      Roberto|     Carlos|Analista|     M|   4000|\n+-------------+-----------+--------+------+-------+\n\n"
     ]
    }
   ],
   "source": [
    "spark.sql(\"\"\"\n",
    "    CREATE OR REPLACE TEMPORARY VIEW tb_cidadao \n",
    "    USING parquet \n",
    "    OPTIONS (path \"/FileStore/tables/parquet/pessoal.parquet/Nacionalidade=Brasileira\")\n",
    "\"\"\")\n",
    "\n",
    "spark.sql(\"SELECT * FROM tb_cidadao WHERE Ultimo_nome = 'Carlos'\").show()\n"
   ]
  }
 ],
 "metadata": {
  "application/vnd.databricks.v1+notebook": {
   "computePreferences": null,
   "dashboards": [],
   "environmentMetadata": {
    "base_environment": "",
    "client": "1"
   },
   "language": "python",
   "notebookMetadata": {
    "mostRecentlyExecutedCommandWithImplicitDF": {
     "commandId": 3030561970005464,
     "dataframes": [
      "_sqldf"
     ]
    },
    "pythonIndentUnit": 4
   },
   "notebookName": "particionamento",
   "widgets": {}
  }
 },
 "nbformat": 4,
 "nbformat_minor": 0
}
