{
 "cells": [
  {
   "cell_type": "markdown",
   "metadata": {
    "application/vnd.databricks.v1+cell": {
     "cellMetadata": {},
     "inputWidgets": {},
     "nuid": "96816ed7-b08a-4ca3-abb9-f99880c3535d",
     "showTitle": false,
     "tableResultSettingsMap": {},
     "title": ""
    }
   },
   "source": [
    "\n",
    "## Overview\n",
    "\n",
    "This notebook will show you how to create and query a table or DataFrame that you uploaded to DBFS. [DBFS](https://docs.databricks.com/user-guide/dbfs-databricks-file-system.html) is a Databricks File System that allows you to store data for querying inside of Databricks. This notebook assumes that you have a file already inside of DBFS that you would like to read from.\n",
    "\n",
    "This notebook is written in **Python** so the default cell type is Python. However, you can use different languages by using the `%LANGUAGE` syntax. Python, Scala, SQL, and R are all supported."
   ]
  },
  {
   "cell_type": "code",
   "execution_count": 0,
   "metadata": {
    "application/vnd.databricks.v1+cell": {
     "cellMetadata": {
      "byteLimit": 2048000,
      "implicitDf": true,
      "rowLimit": 10000
     },
     "inputWidgets": {},
     "nuid": "3ba4b137-131a-49ec-beaa-7aef51e9385d",
     "showTitle": false,
     "tableResultSettingsMap": {},
     "title": ""
    }
   },
   "outputs": [
    {
     "output_type": "display_data",
     "data": {
      "text/html": [
       "<style scoped>\n",
       "  .table-result-container {\n",
       "    max-height: 300px;\n",
       "    overflow: auto;\n",
       "  }\n",
       "  table, th, td {\n",
       "    border: 1px solid black;\n",
       "    border-collapse: collapse;\n",
       "  }\n",
       "  th, td {\n",
       "    padding: 5px;\n",
       "  }\n",
       "  th {\n",
       "    text-align: left;\n",
       "  }\n",
       "</style><div class='table-result-container'><table class='table-result'><thead style='background-color: white'><tr></tr></thead><tbody></tbody></table></div>"
      ]
     },
     "metadata": {
      "application/vnd.databricks.v1+output": {
       "addedWidgets": {},
       "aggData": [],
       "aggError": "",
       "aggOverflow": false,
       "aggSchema": [],
       "aggSeriesLimitReached": false,
       "aggType": "",
       "arguments": {},
       "columnCustomDisplayInfos": {},
       "data": [],
       "datasetInfos": [],
       "dbfsResultPath": null,
       "isJsonSchema": true,
       "metadata": {
        "dataframeName": null
       },
       "overflow": false,
       "plotOptions": {
        "customPlotOptions": {},
        "displayType": "table",
        "pivotAggregation": null,
        "pivotColumns": null,
        "xColumns": null,
        "yColumns": null
       },
       "removedWidgets": [],
       "schema": [],
       "type": "table"
      }
     },
     "output_type": "display_data"
    }
   ],
   "source": [
    "%sql\n",
    "\n",
    "Create database db_brz_v12car;"
   ]
  },
  {
   "cell_type": "code",
   "execution_count": 0,
   "metadata": {
    "application/vnd.databricks.v1+cell": {
     "cellMetadata": {
      "byteLimit": 2048000,
      "rowLimit": 10000
     },
     "inputWidgets": {},
     "nuid": "6482be4c-f067-47c9-b0ac-35c938b94601",
     "showTitle": false,
     "tableResultSettingsMap": {},
     "title": ""
    }
   },
   "outputs": [
    {
     "output_type": "stream",
     "name": "stdout",
     "output_type": "stream",
     "text": [
      "---Criado o dataframe --\n"
     ]
    }
   ],
   "source": [
    "# File location and type\n",
    "file_location = \"/FileStore/tables/brz/carga/clientes_cartao.csv\"\n",
    "file_type = \"csv\"\n",
    "\n",
    "# CSV options\n",
    "infer_schema = \"true\"\n",
    "first_row_is_header = \"true\"\n",
    "delimiter = \";\"\n",
    "\n",
    "# The applied options are for CSV files. For other file types, these will be ignored.\n",
    "df = spark.read.format(file_type) \\\n",
    "  .option(\"inferSchema\", infer_schema) \\\n",
    "  .option(\"header\", first_row_is_header) \\\n",
    "  .option(\"sep\", delimiter) \\\n",
    "  .load(file_location)\n",
    "\n",
    "print(\"---Criado o dataframe --\")"
   ]
  },
  {
   "cell_type": "code",
   "execution_count": 0,
   "metadata": {
    "application/vnd.databricks.v1+cell": {
     "cellMetadata": {
      "byteLimit": 2048000,
      "rowLimit": 10000
     },
     "inputWidgets": {},
     "nuid": "bd82bb99-1479-4d5c-be10-8c36df0f1d44",
     "showTitle": false,
     "tableResultSettingsMap": {},
     "title": ""
    }
   },
   "outputs": [],
   "source": [
    "# Create a view or table\n",
    "\n",
    "temp_table_name = \"clientes_cartao_csv\"\n",
    "\n",
    "df.createOrReplaceTempView(temp_table_name)"
   ]
  },
  {
   "cell_type": "code",
   "execution_count": 0,
   "metadata": {
    "application/vnd.databricks.v1+cell": {
     "cellMetadata": {
      "byteLimit": 2048000,
      "implicitDf": true,
      "rowLimit": 10000
     },
     "inputWidgets": {},
     "nuid": "b5f66379-6f7f-42ec-8e82-d0e0926a1721",
     "showTitle": false,
     "tableResultSettingsMap": {},
     "title": ""
    }
   },
   "outputs": [
    {
     "output_type": "display_data",
     "data": {
      "text/html": [
       "<style scoped>\n",
       "  .table-result-container {\n",
       "    max-height: 300px;\n",
       "    overflow: auto;\n",
       "  }\n",
       "  table, th, td {\n",
       "    border: 1px solid black;\n",
       "    border-collapse: collapse;\n",
       "  }\n",
       "  th, td {\n",
       "    padding: 5px;\n",
       "  }\n",
       "  th {\n",
       "    text-align: left;\n",
       "  }\n",
       "</style><div class='table-result-container'><table class='table-result'><thead style='background-color: white'><tr><th>CLIENTNUM</th><th>Attrition_Flag</th><th>Customer_Age</th><th>Gender</th><th>Dependent_count</th><th>Education_Level</th><th>Marital_Status</th><th>Income_Category</th><th>Card_Category</th><th>Months_on_book</th><th>Total_Relationship_Count</th><th>Months_Inactive_12_mon</th><th>Contacts_Count_12_mon</th><th>Credit_Limit</th><th>Avg_Open_To_Buy</th><th>Total_Trans_Amt</th><th>Total_Trans_Ct</th></tr></thead><tbody><tr><td>768805383</td><td>Existing Customer</td><td>45</td><td>M</td><td>3</td><td>High School</td><td>Married</td><td>$60K - $80K</td><td>Blue</td><td>39</td><td>5</td><td>1</td><td>3</td><td>12691</td><td>11914</td><td>1144</td><td>42</td></tr><tr><td>818770008</td><td>Existing Customer</td><td>49</td><td>F</td><td>5</td><td>Graduate</td><td>Single</td><td>Less than $40K</td><td>Blue</td><td>44</td><td>6</td><td>1</td><td>2</td><td>8256</td><td>7392</td><td>1291</td><td>33</td></tr><tr><td>713982108</td><td>Existing Customer</td><td>51</td><td>M</td><td>3</td><td>Graduate</td><td>Married</td><td>$80K - $120K</td><td>Blue</td><td>36</td><td>4</td><td>1</td><td>0</td><td>3418</td><td>3418</td><td>1887</td><td>20</td></tr><tr><td>769911858</td><td>Existing Customer</td><td>40</td><td>F</td><td>4</td><td>High School</td><td>Unknown</td><td>Less than $40K</td><td>Blue</td><td>34</td><td>3</td><td>4</td><td>1</td><td>3313</td><td>796</td><td>1171</td><td>20</td></tr><tr><td>709106358</td><td>Existing Customer</td><td>40</td><td>M</td><td>3</td><td>Uneducated</td><td>Married</td><td>$60K - $80K</td><td>Blue</td><td>21</td><td>5</td><td>1</td><td>0</td><td>4716</td><td>4716</td><td>816</td><td>28</td></tr></tbody></table></div>"
      ]
     },
     "metadata": {
      "application/vnd.databricks.v1+output": {
       "addedWidgets": {},
       "aggData": [],
       "aggError": "",
       "aggOverflow": false,
       "aggSchema": [],
       "aggSeriesLimitReached": false,
       "aggType": "",
       "arguments": {},
       "columnCustomDisplayInfos": {},
       "data": [
        [
         768805383,
         "Existing Customer",
         45,
         "M",
         3,
         "High School",
         "Married",
         "$60K - $80K",
         "Blue",
         39,
         5,
         1,
         3,
         12691,
         11914,
         1144,
         42
        ],
        [
         818770008,
         "Existing Customer",
         49,
         "F",
         5,
         "Graduate",
         "Single",
         "Less than $40K",
         "Blue",
         44,
         6,
         1,
         2,
         8256,
         7392,
         1291,
         33
        ],
        [
         713982108,
         "Existing Customer",
         51,
         "M",
         3,
         "Graduate",
         "Married",
         "$80K - $120K",
         "Blue",
         36,
         4,
         1,
         0,
         3418,
         3418,
         1887,
         20
        ],
        [
         769911858,
         "Existing Customer",
         40,
         "F",
         4,
         "High School",
         "Unknown",
         "Less than $40K",
         "Blue",
         34,
         3,
         4,
         1,
         3313,
         796,
         1171,
         20
        ],
        [
         709106358,
         "Existing Customer",
         40,
         "M",
         3,
         "Uneducated",
         "Married",
         "$60K - $80K",
         "Blue",
         21,
         5,
         1,
         0,
         4716,
         4716,
         816,
         28
        ]
       ],
       "datasetInfos": [],
       "dbfsResultPath": null,
       "isJsonSchema": true,
       "metadata": {
        "dataframeName": "_sqldf",
        "executionCount": 5
       },
       "overflow": false,
       "plotOptions": {
        "customPlotOptions": {},
        "displayType": "table",
        "pivotAggregation": null,
        "pivotColumns": null,
        "xColumns": null,
        "yColumns": null
       },
       "removedWidgets": [],
       "schema": [
        {
         "metadata": "{}",
         "name": "CLIENTNUM",
         "type": "\"integer\""
        },
        {
         "metadata": "{}",
         "name": "Attrition_Flag",
         "type": "\"string\""
        },
        {
         "metadata": "{}",
         "name": "Customer_Age",
         "type": "\"integer\""
        },
        {
         "metadata": "{}",
         "name": "Gender",
         "type": "\"string\""
        },
        {
         "metadata": "{}",
         "name": "Dependent_count",
         "type": "\"integer\""
        },
        {
         "metadata": "{}",
         "name": "Education_Level",
         "type": "\"string\""
        },
        {
         "metadata": "{}",
         "name": "Marital_Status",
         "type": "\"string\""
        },
        {
         "metadata": "{}",
         "name": "Income_Category",
         "type": "\"string\""
        },
        {
         "metadata": "{}",
         "name": "Card_Category",
         "type": "\"string\""
        },
        {
         "metadata": "{}",
         "name": "Months_on_book",
         "type": "\"integer\""
        },
        {
         "metadata": "{}",
         "name": "Total_Relationship_Count",
         "type": "\"integer\""
        },
        {
         "metadata": "{}",
         "name": "Months_Inactive_12_mon",
         "type": "\"integer\""
        },
        {
         "metadata": "{}",
         "name": "Contacts_Count_12_mon",
         "type": "\"integer\""
        },
        {
         "metadata": "{}",
         "name": "Credit_Limit",
         "type": "\"integer\""
        },
        {
         "metadata": "{}",
         "name": "Avg_Open_To_Buy",
         "type": "\"integer\""
        },
        {
         "metadata": "{}",
         "name": "Total_Trans_Amt",
         "type": "\"integer\""
        },
        {
         "metadata": "{}",
         "name": "Total_Trans_Ct",
         "type": "\"integer\""
        }
       ],
       "type": "table"
      }
     },
     "output_type": "display_data"
    }
   ],
   "source": [
    "%sql\n",
    "\n",
    "/* Query the created temp table in a SQL cell */\n",
    "\n",
    "select * from `clientes_cartao_csv` limit 5"
   ]
  },
  {
   "cell_type": "code",
   "execution_count": 0,
   "metadata": {
    "application/vnd.databricks.v1+cell": {
     "cellMetadata": {
      "byteLimit": 2048000,
      "rowLimit": 10000
     },
     "inputWidgets": {},
     "nuid": "db9631f6-bb4a-42ca-8a3c-0d48af932331",
     "showTitle": false,
     "tableResultSettingsMap": {},
     "title": ""
    }
   },
   "outputs": [],
   "source": [
    "# With this registered as a temp view, it will only be available to this particular notebook. If you'd like other users to be able to query this table, you can also create a table from the DataFrame.\n",
    "# Once saved, this table will persist across cluster restarts as well as allow various users across different notebooks to query this data.\n",
    "# To do so, choose your table name and uncomment the bottom line.\n",
    "\n",
    "permanent_table_name = \"db_brz_v12car.clientes_cartao_csv\"\n",
    "\n",
    "df.write.format(\"parquet\").saveAsTable(permanent_table_name)"
   ]
  }
 ],
 "metadata": {
  "application/vnd.databricks.v1+notebook": {
   "computePreferences": null,
   "dashboards": [],
   "environmentMetadata": null,
   "language": "python",
   "notebookMetadata": {
    "mostRecentlyExecutedCommandWithImplicitDF": {
     "commandId": 746255870186147,
     "dataframes": [
      "_sqldf"
     ]
    },
    "pythonIndentUnit": 4
   },
   "notebookName": "load_data_script",
   "widgets": {}
  }
 },
 "nbformat": 4,
 "nbformat_minor": 0
}
