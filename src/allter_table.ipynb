{
 "cells": [
  {
   "cell_type": "code",
   "execution_count": 0,
   "metadata": {
    "application/vnd.databricks.v1+cell": {
     "cellMetadata": {
      "byteLimit": 2048000,
      "implicitDf": true,
      "rowLimit": 10000
     },
     "inputWidgets": {},
     "nuid": "77c3a19a-6f12-4fdb-826f-5a39cdf6d4ff",
     "showTitle": false,
     "tableResultSettingsMap": {},
     "title": ""
    }
   },
   "outputs": [
    {
     "output_type": "display_data",
     "data": {
      "text/html": [
       "<style scoped>\n",
       "  .table-result-container {\n",
       "    max-height: 300px;\n",
       "    overflow: auto;\n",
       "  }\n",
       "  table, th, td {\n",
       "    border: 1px solid black;\n",
       "    border-collapse: collapse;\n",
       "  }\n",
       "  th, td {\n",
       "    padding: 5px;\n",
       "  }\n",
       "  th {\n",
       "    text-align: left;\n",
       "  }\n",
       "</style><div class='table-result-container'><table class='table-result'><thead style='background-color: white'><tr><th>col_name</th><th>data_type</th><th>comment</th></tr></thead><tbody><tr><td>CLIENTNUM</td><td>int</td><td>null</td></tr><tr><td>Attrition_Flag</td><td>string</td><td>null</td></tr><tr><td>Customer_Age</td><td>int</td><td>null</td></tr><tr><td>Gender</td><td>string</td><td>null</td></tr><tr><td>Dependent_count</td><td>int</td><td>null</td></tr><tr><td>Education_Level</td><td>string</td><td>null</td></tr><tr><td>Marital_Status</td><td>string</td><td>null</td></tr><tr><td>Income_Category</td><td>string</td><td>null</td></tr><tr><td>Card_Category</td><td>string</td><td>null</td></tr><tr><td>Months_on_book</td><td>int</td><td>null</td></tr><tr><td>Total_Relationship_Count</td><td>int</td><td>null</td></tr><tr><td>Months_Inactive_12_mon</td><td>int</td><td>null</td></tr><tr><td>Contacts_Count_12_mon</td><td>int</td><td>null</td></tr><tr><td>Credit_Limit</td><td>int</td><td>null</td></tr><tr><td>Avg_Open_To_Buy</td><td>int</td><td>null</td></tr><tr><td>Total_Trans_Amt</td><td>int</td><td>null</td></tr><tr><td>Total_Trans_Ct</td><td>int</td><td>null</td></tr></tbody></table></div>"
      ]
     },
     "metadata": {
      "application/vnd.databricks.v1+output": {
       "addedWidgets": {},
       "aggData": [],
       "aggError": "",
       "aggOverflow": false,
       "aggSchema": [],
       "aggSeriesLimitReached": false,
       "aggType": "",
       "arguments": {},
       "columnCustomDisplayInfos": {},
       "data": [
        [
         "CLIENTNUM",
         "int",
         null
        ],
        [
         "Attrition_Flag",
         "string",
         null
        ],
        [
         "Customer_Age",
         "int",
         null
        ],
        [
         "Gender",
         "string",
         null
        ],
        [
         "Dependent_count",
         "int",
         null
        ],
        [
         "Education_Level",
         "string",
         null
        ],
        [
         "Marital_Status",
         "string",
         null
        ],
        [
         "Income_Category",
         "string",
         null
        ],
        [
         "Card_Category",
         "string",
         null
        ],
        [
         "Months_on_book",
         "int",
         null
        ],
        [
         "Total_Relationship_Count",
         "int",
         null
        ],
        [
         "Months_Inactive_12_mon",
         "int",
         null
        ],
        [
         "Contacts_Count_12_mon",
         "int",
         null
        ],
        [
         "Credit_Limit",
         "int",
         null
        ],
        [
         "Avg_Open_To_Buy",
         "int",
         null
        ],
        [
         "Total_Trans_Amt",
         "int",
         null
        ],
        [
         "Total_Trans_Ct",
         "int",
         null
        ]
       ],
       "datasetInfos": [],
       "dbfsResultPath": null,
       "isJsonSchema": true,
       "metadata": {
        "dataframeName": "_sqldf",
        "executionCount": 1
       },
       "overflow": false,
       "plotOptions": {
        "customPlotOptions": {},
        "displayType": "table",
        "pivotAggregation": null,
        "pivotColumns": null,
        "xColumns": null,
        "yColumns": null
       },
       "removedWidgets": [],
       "schema": [
        {
         "metadata": "{\"comment\":\"name of the column\"}",
         "name": "col_name",
         "type": "\"string\""
        },
        {
         "metadata": "{\"comment\":\"data type of the column\"}",
         "name": "data_type",
         "type": "\"string\""
        },
        {
         "metadata": "{\"comment\":\"comment of the column\"}",
         "name": "comment",
         "type": "\"string\""
        }
       ],
       "type": "table"
      }
     },
     "output_type": "display_data"
    }
   ],
   "source": [
    "%sql\n",
    "DESCRIBE db_brz_v12car.clientes_cartao_csv"
   ]
  },
  {
   "cell_type": "code",
   "execution_count": 0,
   "metadata": {
    "application/vnd.databricks.v1+cell": {
     "cellMetadata": {
      "byteLimit": 2048000,
      "implicitDf": true,
      "rowLimit": 10000
     },
     "inputWidgets": {},
     "nuid": "d1a384d0-117d-4213-8b5f-c82f0017d76f",
     "showTitle": false,
     "tableResultSettingsMap": {},
     "title": ""
    }
   },
   "outputs": [
    {
     "output_type": "display_data",
     "data": {
      "text/html": [
       "<style scoped>\n",
       "  .table-result-container {\n",
       "    max-height: 300px;\n",
       "    overflow: auto;\n",
       "  }\n",
       "  table, th, td {\n",
       "    border: 1px solid black;\n",
       "    border-collapse: collapse;\n",
       "  }\n",
       "  th, td {\n",
       "    padding: 5px;\n",
       "  }\n",
       "  th {\n",
       "    text-align: left;\n",
       "  }\n",
       "</style><div class='table-result-container'><table class='table-result'><thead style='background-color: white'><tr></tr></thead><tbody></tbody></table></div>"
      ]
     },
     "metadata": {
      "application/vnd.databricks.v1+output": {
       "addedWidgets": {},
       "aggData": [],
       "aggError": "",
       "aggOverflow": false,
       "aggSchema": [],
       "aggSeriesLimitReached": false,
       "aggType": "",
       "arguments": {},
       "columnCustomDisplayInfos": {},
       "data": [],
       "datasetInfos": [],
       "dbfsResultPath": null,
       "isJsonSchema": true,
       "metadata": {
        "dataframeName": null
       },
       "overflow": false,
       "plotOptions": {
        "customPlotOptions": {},
        "displayType": "table",
        "pivotAggregation": null,
        "pivotColumns": null,
        "xColumns": null,
        "yColumns": null
       },
       "removedWidgets": [],
       "schema": [],
       "type": "table"
      }
     },
     "output_type": "display_data"
    }
   ],
   "source": [
    "%sql\n",
    "ALTER TABLE db_brz_v12car.clientes_cartao_csv RENAME TO db_brz_v12car.clientes_cartao;\n"
   ]
  }
 ],
 "metadata": {
  "application/vnd.databricks.v1+notebook": {
   "computePreferences": null,
   "dashboards": [],
   "environmentMetadata": {
    "base_environment": "",
    "client": "1"
   },
   "language": "python",
   "notebookMetadata": {
    "mostRecentlyExecutedCommandWithImplicitDF": {
     "commandId": 746255870186153,
     "dataframes": [
      "_sqldf"
     ]
    },
    "pythonIndentUnit": 4
   },
   "notebookName": "allter_table",
   "widgets": {}
  }
 },
 "nbformat": 4,
 "nbformat_minor": 0
}
